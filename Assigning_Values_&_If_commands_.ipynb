{
  "cells": [
    {
      "cell_type": "code",
      "execution_count": null,
      "id": "a43938bc-a240-4410-a02d-bca82f1eeace",
      "metadata": {
        "id": "a43938bc-a240-4410-a02d-bca82f1eeace"
      },
      "outputs": [],
      "source": [
        "x=10  #valuble assignment"
      ]
    },
    {
      "cell_type": "code",
      "execution_count": null,
      "id": "02417111-f06a-4986-9c23-79b7ee04f3c5",
      "metadata": {
        "id": "02417111-f06a-4986-9c23-79b7ee04f3c5",
        "outputId": "97578105-6f99-4d3e-8da7-2fce036fffc3"
      },
      "outputs": [
        {
          "name": "stdout",
          "output_type": "stream",
          "text": [
            "10\n"
          ]
        }
      ],
      "source": [
        "print(x)"
      ]
    },
    {
      "cell_type": "code",
      "execution_count": null,
      "id": "a4f385ef-c7c4-4f0c-bc19-84387233c2c1",
      "metadata": {
        "id": "a4f385ef-c7c4-4f0c-bc19-84387233c2c1",
        "outputId": "d7208353-76d0-4677-cc88-19917ec68dc5"
      },
      "outputs": [
        {
          "data": {
            "text/plain": [
              "int"
            ]
          },
          "execution_count": 3,
          "metadata": {},
          "output_type": "execute_result"
        }
      ],
      "source": [
        "type(x)"
      ]
    },
    {
      "cell_type": "code",
      "execution_count": null,
      "id": "e71c67b8-8f84-4d06-a652-6525a3563a6f",
      "metadata": {
        "id": "e71c67b8-8f84-4d06-a652-6525a3563a6f"
      },
      "outputs": [],
      "source": [
        "x=10\n",
        "y=20.5\n",
        "z=\"India\""
      ]
    },
    {
      "cell_type": "code",
      "execution_count": null,
      "id": "a0873085-730f-4d7d-86ef-49de0c2e8d02",
      "metadata": {
        "id": "a0873085-730f-4d7d-86ef-49de0c2e8d02",
        "outputId": "c5d46dfd-45b5-4c1f-fdbb-efd5e4f096b4"
      },
      "outputs": [
        {
          "data": {
            "text/plain": [
              "int"
            ]
          },
          "execution_count": 5,
          "metadata": {},
          "output_type": "execute_result"
        }
      ],
      "source": [
        "type(x)"
      ]
    },
    {
      "cell_type": "code",
      "execution_count": null,
      "id": "9f85d3af-d92c-456e-b0ed-f5aa4c91bc0e",
      "metadata": {
        "id": "9f85d3af-d92c-456e-b0ed-f5aa4c91bc0e",
        "outputId": "ae710ad9-db3c-454b-969f-c257ab6095a5"
      },
      "outputs": [
        {
          "data": {
            "text/plain": [
              "float"
            ]
          },
          "execution_count": 6,
          "metadata": {},
          "output_type": "execute_result"
        }
      ],
      "source": [
        "type(y)"
      ]
    },
    {
      "cell_type": "code",
      "execution_count": null,
      "id": "170ee3d9-9eff-42dc-bdb1-0a04a973ad1a",
      "metadata": {
        "id": "170ee3d9-9eff-42dc-bdb1-0a04a973ad1a",
        "outputId": "e6ed47b9-999f-408e-a2f8-ed4a0c52e687"
      },
      "outputs": [
        {
          "data": {
            "text/plain": [
              "str"
            ]
          },
          "execution_count": 7,
          "metadata": {},
          "output_type": "execute_result"
        }
      ],
      "source": [
        "type(z)"
      ]
    },
    {
      "cell_type": "code",
      "execution_count": null,
      "id": "3f421415-82b6-4df4-9416-be620c960151",
      "metadata": {
        "id": "3f421415-82b6-4df4-9416-be620c960151"
      },
      "outputs": [],
      "source": [
        "x=10\n",
        "y=20"
      ]
    },
    {
      "cell_type": "code",
      "execution_count": null,
      "id": "e94d8bb6-c077-41d8-a1c7-8f52ef4f1c7c",
      "metadata": {
        "id": "e94d8bb6-c077-41d8-a1c7-8f52ef4f1c7c",
        "outputId": "5b11bcb4-ec7d-43da-bd65-c6da89d64fc8"
      },
      "outputs": [
        {
          "data": {
            "text/plain": [
              "30"
            ]
          },
          "execution_count": 9,
          "metadata": {},
          "output_type": "execute_result"
        }
      ],
      "source": [
        "x+y"
      ]
    },
    {
      "cell_type": "code",
      "execution_count": null,
      "id": "6d3e5a32-d8de-47d8-b63b-034859855ee2",
      "metadata": {
        "id": "6d3e5a32-d8de-47d8-b63b-034859855ee2",
        "outputId": "5d58efdb-1eda-4621-9abb-32132bca3924"
      },
      "outputs": [
        {
          "data": {
            "text/plain": [
              "-10"
            ]
          },
          "execution_count": 10,
          "metadata": {},
          "output_type": "execute_result"
        }
      ],
      "source": [
        "x-y"
      ]
    },
    {
      "cell_type": "code",
      "execution_count": null,
      "id": "eb80073f-7c80-4bc9-bb83-829e7e6d3a10",
      "metadata": {
        "id": "eb80073f-7c80-4bc9-bb83-829e7e6d3a10",
        "outputId": "9513b1ff-4e9c-4e92-9095-db0b2453cf8e"
      },
      "outputs": [
        {
          "data": {
            "text/plain": [
              "200"
            ]
          },
          "execution_count": 11,
          "metadata": {},
          "output_type": "execute_result"
        }
      ],
      "source": [
        "x*y"
      ]
    },
    {
      "cell_type": "code",
      "execution_count": null,
      "id": "0ad864fb-d8f9-48c7-9eea-94e7f5bc99b8",
      "metadata": {
        "id": "0ad864fb-d8f9-48c7-9eea-94e7f5bc99b8",
        "outputId": "412c22f7-d644-4b7f-f47e-022beeda7cdc"
      },
      "outputs": [
        {
          "data": {
            "text/plain": [
              "0.5"
            ]
          },
          "execution_count": 12,
          "metadata": {},
          "output_type": "execute_result"
        }
      ],
      "source": [
        "x/y"
      ]
    },
    {
      "cell_type": "code",
      "execution_count": null,
      "id": "a08497c6-ff21-48b6-982d-96aa504cd441",
      "metadata": {
        "id": "a08497c6-ff21-48b6-982d-96aa504cd441"
      },
      "outputs": [],
      "source": [
        "x=\"India\"\n",
        "y=\" Kerala\""
      ]
    },
    {
      "cell_type": "code",
      "execution_count": null,
      "id": "6b1d2b66-f6d6-4edd-bae7-08b5ff988dce",
      "metadata": {
        "id": "6b1d2b66-f6d6-4edd-bae7-08b5ff988dce",
        "outputId": "63ee7892-2cbc-4763-e5b9-26b593b1a79e"
      },
      "outputs": [
        {
          "data": {
            "text/plain": [
              "'India Kerala'"
            ]
          },
          "execution_count": 14,
          "metadata": {},
          "output_type": "execute_result"
        }
      ],
      "source": [
        "x+y"
      ]
    },
    {
      "cell_type": "code",
      "execution_count": null,
      "id": "cae64ab4-e8eb-409f-9262-700e24aac7db",
      "metadata": {
        "id": "cae64ab4-e8eb-409f-9262-700e24aac7db",
        "outputId": "c3968952-c452-426b-cff2-20adcd1b491a"
      },
      "outputs": [
        {
          "data": {
            "text/plain": [
              "'1020'"
            ]
          },
          "execution_count": 15,
          "metadata": {},
          "output_type": "execute_result"
        }
      ],
      "source": [
        "x=\"10\"\n",
        "y=\"20\"\n",
        "x+y"
      ]
    },
    {
      "cell_type": "code",
      "execution_count": null,
      "id": "5381d6db-49ed-4a73-b162-ef9a57d4aee1",
      "metadata": {
        "id": "5381d6db-49ed-4a73-b162-ef9a57d4aee1",
        "outputId": "6d9c3f32-b34a-48e7-b64d-af5de6f95276"
      },
      "outputs": [
        {
          "name": "stdin",
          "output_type": "stream",
          "text": [
            "Enter a value 50\n"
          ]
        }
      ],
      "source": [
        "x=input(\"Enter a value\")"
      ]
    },
    {
      "cell_type": "code",
      "execution_count": null,
      "id": "e4f5fe2e-62fd-4c01-a23f-98fa8f1cd3ac",
      "metadata": {
        "id": "e4f5fe2e-62fd-4c01-a23f-98fa8f1cd3ac",
        "outputId": "b5989055-5e32-42a9-ac94-3980426a2ea6"
      },
      "outputs": [
        {
          "name": "stdin",
          "output_type": "stream",
          "text": [
            "Enter First Number 50\n",
            "Enter Second Number 60\n"
          ]
        }
      ],
      "source": [
        "x=int(input(\"Enter First Number\"))\n",
        "y=int(input(\"Enter Second Number\"))"
      ]
    },
    {
      "cell_type": "code",
      "execution_count": null,
      "id": "36ff35d2-d1e6-4598-86e6-e340fa475644",
      "metadata": {
        "id": "36ff35d2-d1e6-4598-86e6-e340fa475644",
        "outputId": "bd73a577-a282-4335-c7ab-36f20bd8fde6"
      },
      "outputs": [
        {
          "data": {
            "text/plain": [
              "110"
            ]
          },
          "execution_count": 18,
          "metadata": {},
          "output_type": "execute_result"
        }
      ],
      "source": [
        "x+y"
      ]
    },
    {
      "cell_type": "code",
      "execution_count": null,
      "id": "eb8ef53a-1275-40b0-a321-626903ae8a58",
      "metadata": {
        "id": "eb8ef53a-1275-40b0-a321-626903ae8a58",
        "outputId": "f37f5b51-9e8a-45fc-d45f-b4eac8b9f443"
      },
      "outputs": [
        {
          "data": {
            "text/plain": [
              "110"
            ]
          },
          "execution_count": 19,
          "metadata": {},
          "output_type": "execute_result"
        }
      ],
      "source": [
        "x+y"
      ]
    },
    {
      "cell_type": "code",
      "execution_count": null,
      "id": "820b85a8-6f4a-4545-bc85-07e8147a6ca5",
      "metadata": {
        "id": "820b85a8-6f4a-4545-bc85-07e8147a6ca5",
        "outputId": "00729e6c-aaf7-4edb-aa33-eb5abba7c29e"
      },
      "outputs": [
        {
          "data": {
            "text/plain": [
              "-10"
            ]
          },
          "execution_count": 20,
          "metadata": {},
          "output_type": "execute_result"
        }
      ],
      "source": [
        "x-y"
      ]
    },
    {
      "cell_type": "code",
      "execution_count": null,
      "id": "aeeb3cd5-979a-4f45-a90f-0e22a132aa97",
      "metadata": {
        "id": "aeeb3cd5-979a-4f45-a90f-0e22a132aa97",
        "outputId": "051ba31f-3d98-407f-b175-e58dc0407f9c"
      },
      "outputs": [
        {
          "data": {
            "text/plain": [
              "0.8333333333333334"
            ]
          },
          "execution_count": 21,
          "metadata": {},
          "output_type": "execute_result"
        }
      ],
      "source": [
        "x/y"
      ]
    },
    {
      "cell_type": "code",
      "execution_count": null,
      "id": "594e7fe7-926d-452f-9c2a-94a767e3374f",
      "metadata": {
        "id": "594e7fe7-926d-452f-9c2a-94a767e3374f",
        "outputId": "6ab102ae-2981-4c26-8b43-b8466e778aa7"
      },
      "outputs": [
        {
          "data": {
            "text/plain": [
              "3000"
            ]
          },
          "execution_count": 22,
          "metadata": {},
          "output_type": "execute_result"
        }
      ],
      "source": [
        "x*y"
      ]
    },
    {
      "cell_type": "code",
      "execution_count": null,
      "id": "5f31582e-626c-4f48-937c-019e012394ed",
      "metadata": {
        "id": "5f31582e-626c-4f48-937c-019e012394ed",
        "outputId": "6d09f05a-ceb0-435b-e3e0-85c3fdedea24"
      },
      "outputs": [
        {
          "name": "stdin",
          "output_type": "stream",
          "text": [
            "Enter your Marks 30\n"
          ]
        },
        {
          "name": "stdout",
          "output_type": "stream",
          "text": [
            "You have failed\n"
          ]
        }
      ],
      "source": [
        "Marks=int(input('Enter your Marks'))\n",
        "if Marks > 50:\n",
        "    print('You have passed')\n",
        "if Marks < 50 :\n",
        "    print(\"You have failed\")"
      ]
    },
    {
      "cell_type": "code",
      "execution_count": null,
      "id": "be99525e-cb08-4fd0-8139-c6b0068658da",
      "metadata": {
        "id": "be99525e-cb08-4fd0-8139-c6b0068658da",
        "outputId": "552f596e-843a-4299-b4fa-1da1e957ba21"
      },
      "outputs": [
        {
          "name": "stdin",
          "output_type": "stream",
          "text": [
            "Enter your Marks 40\n"
          ]
        },
        {
          "name": "stdout",
          "output_type": "stream",
          "text": [
            "You have failed\n"
          ]
        }
      ],
      "source": [
        "Marks=int(input('Enter your Marks'))\n",
        "if Marks > 50:\n",
        "    print('You have passed')\n",
        "if Marks < 50 :\n",
        "    print(\"You have failed\")\n",
        "if Marks > 100 :\n",
        "    print(\"Error\")\n",
        "if Marks < 0 :\n",
        "    print(\"Error\")"
      ]
    },
    {
      "cell_type": "code",
      "execution_count": null,
      "id": "dd3aba54-0e57-4c77-ad0b-71933c7ee711",
      "metadata": {
        "id": "dd3aba54-0e57-4c77-ad0b-71933c7ee711",
        "outputId": "fed959bc-e8cc-4a85-8b44-0cc707d4522e"
      },
      "outputs": [
        {
          "name": "stdin",
          "output_type": "stream",
          "text": [
            "Enter your salary 50\n"
          ]
        },
        {
          "name": "stdout",
          "output_type": "stream",
          "text": [
            "You ae not taxable\n"
          ]
        }
      ],
      "source": [
        "Salary=int(input(\"Enter your salary\"))\n",
        "if Salary >= 250000 and Salary < 550000 :\n",
        "    print(\"You are taxable\",(Salary-250000)*0.1)\n",
        "if Salary >= 550000 :\n",
        "    print(\"You are taxable\",(Salary-250000)*0.2)\n",
        "if Salary < 250000 :\n",
        "    print(\"You ae not taxable\")"
      ]
    },
    {
      "cell_type": "code",
      "execution_count": null,
      "id": "fdce446b-afec-41d3-81fa-4baee02a6ea7",
      "metadata": {
        "id": "fdce446b-afec-41d3-81fa-4baee02a6ea7",
        "outputId": "5bff95a7-548b-400e-bc4a-58049a87fbb0"
      },
      "outputs": [
        {
          "name": "stdout",
          "output_type": "stream",
          "text": [
            "0\n",
            "1\n",
            "2\n",
            "3\n",
            "4\n",
            "5\n",
            "6\n",
            "7\n",
            "8\n",
            "9\n",
            "10\n",
            "11\n",
            "12\n",
            "13\n",
            "14\n",
            "15\n",
            "16\n",
            "17\n",
            "18\n",
            "19\n",
            "20\n",
            "21\n",
            "22\n",
            "23\n",
            "24\n",
            "25\n",
            "26\n",
            "27\n",
            "28\n",
            "29\n",
            "30\n",
            "31\n",
            "32\n",
            "33\n",
            "34\n",
            "35\n",
            "36\n",
            "37\n",
            "38\n",
            "39\n",
            "40\n",
            "41\n",
            "42\n",
            "43\n",
            "44\n",
            "45\n",
            "46\n",
            "47\n",
            "48\n",
            "49\n",
            "50\n",
            "51\n",
            "52\n",
            "53\n",
            "54\n",
            "55\n",
            "56\n",
            "57\n",
            "58\n",
            "59\n",
            "60\n",
            "61\n",
            "62\n",
            "63\n",
            "64\n",
            "65\n",
            "66\n",
            "67\n",
            "68\n",
            "69\n",
            "70\n",
            "71\n",
            "72\n",
            "73\n",
            "74\n",
            "75\n",
            "76\n",
            "77\n",
            "78\n",
            "79\n",
            "80\n",
            "81\n",
            "82\n",
            "83\n",
            "84\n",
            "85\n",
            "86\n",
            "87\n",
            "88\n",
            "89\n",
            "90\n",
            "91\n",
            "92\n",
            "93\n",
            "94\n",
            "95\n",
            "96\n",
            "97\n",
            "98\n",
            "99\n"
          ]
        }
      ],
      "source": [
        "x=0\n",
        "while x <100 :\n",
        "    print(x)\n",
        "    x=x+1"
      ]
    },
    {
      "cell_type": "code",
      "execution_count": null,
      "id": "5ba3bf7d-2d96-4da8-a332-4235d2a4da17",
      "metadata": {
        "id": "5ba3bf7d-2d96-4da8-a332-4235d2a4da17",
        "outputId": "c93fb7e0-e417-4199-9856-839c13de1d08"
      },
      "outputs": [
        {
          "name": "stdout",
          "output_type": "stream",
          "text": [
            "0\n",
            "1\n",
            "2\n",
            "3\n",
            "4\n",
            "5\n",
            "6\n",
            "7\n",
            "8\n",
            "9\n",
            "10\n",
            "11\n",
            "12\n",
            "13\n",
            "14\n",
            "15\n",
            "16\n",
            "17\n",
            "18\n",
            "19\n",
            "20\n",
            "21\n",
            "22\n",
            "23\n",
            "24\n",
            "25\n",
            "26\n",
            "27\n",
            "28\n",
            "29\n",
            "30\n",
            "31\n",
            "32\n",
            "33\n",
            "34\n",
            "35\n",
            "36\n",
            "37\n",
            "38\n",
            "39\n",
            "40\n",
            "41\n",
            "42\n",
            "43\n",
            "44\n",
            "45\n",
            "46\n",
            "47\n",
            "48\n",
            "49\n",
            "50\n",
            "51\n",
            "52\n",
            "53\n",
            "54\n",
            "55\n",
            "56\n",
            "57\n",
            "58\n",
            "59\n",
            "60\n",
            "61\n",
            "62\n",
            "63\n",
            "64\n",
            "65\n",
            "66\n",
            "67\n",
            "68\n",
            "69\n",
            "70\n",
            "71\n",
            "72\n",
            "73\n",
            "74\n",
            "75\n",
            "76\n",
            "77\n",
            "78\n",
            "79\n",
            "80\n",
            "81\n",
            "82\n",
            "83\n",
            "84\n",
            "85\n",
            "86\n",
            "87\n",
            "88\n",
            "89\n",
            "90\n",
            "91\n",
            "92\n",
            "93\n",
            "94\n",
            "95\n",
            "96\n",
            "97\n",
            "98\n",
            "99\n"
          ]
        }
      ],
      "source": [
        "x=0\n",
        "paper =0\n",
        "while x <100 :\n",
        "    paper = x+paper\n",
        "    print(x)\n",
        "    x=x+1"
      ]
    },
    {
      "cell_type": "code",
      "execution_count": null,
      "id": "7b81de91-adff-425c-b2ac-329b38e20803",
      "metadata": {
        "id": "7b81de91-adff-425c-b2ac-329b38e20803"
      },
      "outputs": [],
      "source": [
        ""
      ]
    }
  ],
  "metadata": {
    "kernelspec": {
      "display_name": "Python 3",
      "language": "python",
      "name": "python3"
    },
    "language_info": {
      "codemirror_mode": {
        "name": "ipython",
        "version": 3
      },
      "file_extension": ".py",
      "mimetype": "text/x-python",
      "name": "python",
      "nbconvert_exporter": "python",
      "pygments_lexer": "ipython3",
      "version": "3.8.8"
    },
    "colab": {
      "name": "Assigning Values & If commands .ipynb",
      "provenance": []
    }
  },
  "nbformat": 4,
  "nbformat_minor": 5
}