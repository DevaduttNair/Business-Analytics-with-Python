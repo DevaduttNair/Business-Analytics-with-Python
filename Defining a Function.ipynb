{
 "cells": [
  {
   "cell_type": "code",
   "execution_count": 1,
   "id": "3b88f295-fba4-4821-85bb-070418a09834",
   "metadata": {},
   "outputs": [
    {
     "name": "stdin",
     "output_type": "stream",
     "text": [
      "Enter a Number 5\n"
     ]
    },
    {
     "name": "stdout",
     "output_type": "stream",
     "text": [
      "Square of x = 25\n"
     ]
    }
   ],
   "source": [
    "x=int(input(\"Enter a Number\"))\n",
    "print(\"Square of x =\", x*x)"
   ]
  },
  {
   "cell_type": "code",
   "execution_count": 9,
   "id": "ba32d9ff-d3a1-4cd6-be92-18cf65d8847c",
   "metadata": {},
   "outputs": [],
   "source": [
    "def square():\n",
    "    x=int(input(\"Enter some number:\"))\n",
    "    print(\"Square of x=\",x*x)"
   ]
  },
  {
   "cell_type": "code",
   "execution_count": 10,
   "id": "a3509196-5d93-48f5-9f1a-a12a31582b4d",
   "metadata": {},
   "outputs": [
    {
     "name": "stdin",
     "output_type": "stream",
     "text": [
      "Enter some number: 8\n"
     ]
    },
    {
     "name": "stdout",
     "output_type": "stream",
     "text": [
      "Square of x= 64\n"
     ]
    }
   ],
   "source": [
    "square()"
   ]
  },
  {
   "cell_type": "code",
   "execution_count": 13,
   "id": "04768ffa-4e9b-45ff-a652-da5284f0a95d",
   "metadata": {},
   "outputs": [],
   "source": [
    "def sq(x):\n",
    "    print(\"Square of x is:\",x*x)"
   ]
  },
  {
   "cell_type": "code",
   "execution_count": 14,
   "id": "fc78fdf2-223e-4514-b340-1bd9d84d8941",
   "metadata": {},
   "outputs": [
    {
     "name": "stdin",
     "output_type": "stream",
     "text": [
      "Enter some Number 9\n"
     ]
    },
    {
     "name": "stdout",
     "output_type": "stream",
     "text": [
      "Square of x is: 81\n"
     ]
    }
   ],
   "source": [
    "x=int(input(\"Enter some Number\"))\n",
    "sq(x)"
   ]
  },
  {
   "cell_type": "code",
   "execution_count": null,
   "id": "30b5cb59-c348-4921-b261-b36d83a4b053",
   "metadata": {},
   "outputs": [],
   "source": []
  }
 ],
 "metadata": {
  "kernelspec": {
   "display_name": "Python 3",
   "language": "python",
   "name": "python3"
  },
  "language_info": {
   "codemirror_mode": {
    "name": "ipython",
    "version": 3
   },
   "file_extension": ".py",
   "mimetype": "text/x-python",
   "name": "python",
   "nbconvert_exporter": "python",
   "pygments_lexer": "ipython3",
   "version": "3.8.8"
  }
 },
 "nbformat": 4,
 "nbformat_minor": 5
}
