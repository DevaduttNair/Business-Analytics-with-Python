{
 "cells": [
  {
   "cell_type": "code",
   "execution_count": 1,
   "id": "2ae5363f-06be-408d-a726-2aee34b054b2",
   "metadata": {},
   "outputs": [],
   "source": [
    "import numpy as np\n",
    "import matplotlib.pyplot as plt"
   ]
  },
  {
   "cell_type": "code",
   "execution_count": 52,
   "id": "bdfc42e0-0330-4f83-bd58-8782ef6b7591",
   "metadata": {},
   "outputs": [],
   "source": [
    "x=np.array([1,2,3,4,5,6,7,8,9,10,11,12,13])\n",
    "y=np.array([1859.40,2110.20,2018.00,1966.00,2166.00,2118.00,2054.30,2273.00,2501.95,2536.25,2433.00,2365.00,2451.20])\n",
    "x_mean = np.mean(x)\n",
    "y_mean = np.mean(y)"
   ]
  },
  {
   "cell_type": "code",
   "execution_count": 3,
   "id": "6a5c5606-ab41-433b-818a-55071e91eaf6",
   "metadata": {},
   "outputs": [
    {
     "data": {
      "text/plain": [
       "array([-6., -5., -4., -3., -2., -1.,  0.,  1.,  2.,  3.,  4.,  5.,  6.])"
      ]
     },
     "execution_count": 3,
     "metadata": {},
     "output_type": "execute_result"
    }
   ],
   "source": [
    "a = x - x_mean\n",
    "a"
   ]
  },
  {
   "cell_type": "code",
   "execution_count": 4,
   "id": "cb88b5ec-70ca-4cfc-9e9d-941d8a39ffd0",
   "metadata": {},
   "outputs": [
    {
     "data": {
      "text/plain": [
       "array([-360.00769231, -109.20769231, -201.40769231, -253.40769231,\n",
       "        -53.40769231, -101.40769231, -165.10769231,   53.59230769,\n",
       "        282.54230769,  316.84230769,  213.59230769,  145.59230769,\n",
       "        231.79230769])"
      ]
     },
     "execution_count": 4,
     "metadata": {},
     "output_type": "execute_result"
    }
   ],
   "source": [
    "b = y - y_mean\n",
    "b"
   ]
  },
  {
   "cell_type": "code",
   "execution_count": 5,
   "id": "73a037ae-7f90-4a53-a65d-9f029573d3c2",
   "metadata": {},
   "outputs": [
    {
     "data": {
      "text/plain": [
       "array([2160.04615385,  546.03846154,  805.63076923,  760.22307692,\n",
       "        106.81538462,  101.40769231,   -0.        ,   53.59230769,\n",
       "        565.08461538,  950.52692308,  854.36923077,  727.96153846,\n",
       "       1390.75384615])"
      ]
     },
     "execution_count": 5,
     "metadata": {},
     "output_type": "execute_result"
    }
   ],
   "source": [
    "c = a*b\n",
    "c"
   ]
  },
  {
   "cell_type": "code",
   "execution_count": 6,
   "id": "c3846dac-d9cf-49fc-9cde-f6e83ac8fa30",
   "metadata": {},
   "outputs": [
    {
     "data": {
      "text/plain": [
       "9022.449999999999"
      ]
     },
     "execution_count": 6,
     "metadata": {},
     "output_type": "execute_result"
    }
   ],
   "source": [
    "d = sum(c)\n",
    "d"
   ]
  },
  {
   "cell_type": "code",
   "execution_count": 7,
   "id": "24cf0e2a-2d98-41eb-9c46-8f6a2ca7593f",
   "metadata": {},
   "outputs": [
    {
     "data": {
      "text/plain": [
       "array([36., 25., 16.,  9.,  4.,  1.,  0.,  1.,  4.,  9., 16., 25., 36.])"
      ]
     },
     "execution_count": 7,
     "metadata": {},
     "output_type": "execute_result"
    }
   ],
   "source": [
    "e = (a)**2\n",
    "e"
   ]
  },
  {
   "cell_type": "code",
   "execution_count": 8,
   "id": "0a8ed2b8-65ee-47e3-977b-cbe32a4001ca",
   "metadata": {},
   "outputs": [
    {
     "data": {
      "text/plain": [
       "182.0"
      ]
     },
     "execution_count": 8,
     "metadata": {},
     "output_type": "execute_result"
    }
   ],
   "source": [
    "f = sum(e)\n",
    "f"
   ]
  },
  {
   "cell_type": "code",
   "execution_count": 9,
   "id": "6c32aa0f-b141-489c-a2de-353bd0bd6d83",
   "metadata": {},
   "outputs": [
    {
     "data": {
      "text/plain": [
       "49.573901098901096"
      ]
     },
     "execution_count": 9,
     "metadata": {},
     "output_type": "execute_result"
    }
   ],
   "source": [
    "m = d/f\n",
    "m"
   ]
  },
  {
   "cell_type": "code",
   "execution_count": 10,
   "id": "c5b6b054-1a44-4a43-9b0c-c667a65efef5",
   "metadata": {},
   "outputs": [],
   "source": [
    "# find the value of c\n",
    "# y_ = m*x_ + c\n",
    "\n",
    "# y - m*X_ = c"
   ]
  },
  {
   "cell_type": "code",
   "execution_count": 11,
   "id": "c55ef19e-d853-4cc2-a516-4d54438b7525",
   "metadata": {},
   "outputs": [
    {
     "data": {
      "text/plain": [
       "1872.390384615385"
      ]
     },
     "execution_count": 11,
     "metadata": {},
     "output_type": "execute_result"
    }
   ],
   "source": [
    "eq = (y_mean) - ((m)*(x_mean)) # eq is the c in equation of line\n",
    "eq"
   ]
  },
  {
   "cell_type": "code",
   "execution_count": 12,
   "id": "493fd911-485c-42d5-b079-a28b9430ec73",
   "metadata": {},
   "outputs": [
    {
     "data": {
      "text/plain": [
       "array([1921.96428571, 1971.53818681, 2021.11208791, 2070.68598901,\n",
       "       2120.25989011, 2169.83379121, 2219.40769231, 2268.98159341,\n",
       "       2318.55549451, 2368.1293956 , 2417.7032967 , 2467.2771978 ,\n",
       "       2516.8510989 ])"
      ]
     },
     "execution_count": 12,
     "metadata": {},
     "output_type": "execute_result"
    }
   ],
   "source": [
    "new_y = ((m)*(x)) + eq\n",
    "new_y"
   ]
  },
  {
   "cell_type": "code",
   "execution_count": 13,
   "id": "744cab67-9e74-4b9c-8b7e-2a56270d4505",
   "metadata": {},
   "outputs": [
    {
     "data": {
      "text/plain": [
       "<matplotlib.collections.PathCollection at 0x20e4817c6a0>"
      ]
     },
     "execution_count": 13,
     "metadata": {},
     "output_type": "execute_result"
    },
    {
     "data": {
      "image/png": "[encoded data removed]",
      "text/plain": [
       "<Figure size 432x288 with 1 Axes>"
      ]
     },
     "metadata": {
      "needs_background": "light"
     },
     "output_type": "display_data"
    }
   ],
   "source": [
    "plt.scatter(x,y)"
   ]
  },
  {
   "cell_type": "code",
   "execution_count": 14,
   "id": "7ab5b7e1-b879-4b6c-b8e1-eef980a96f3b",
   "metadata": {},
   "outputs": [
    {
     "data": {
      "text/plain": [
       "[<matplotlib.lines.Line2D at 0x20e48903040>]"
      ]
     },
     "execution_count": 14,
     "metadata": {},
     "output_type": "execute_result"
    },
    {
     "data": {
      "image/png": "[encoded data removed]",
      "text/plain": [
       "<Figure size 432x288 with 1 Axes>"
      ]
     },
     "metadata": {
      "needs_background": "light"
     },
     "output_type": "display_data"
    }
   ],
   "source": [
    "plt.plot(x,new_y)"
   ]
  },
  {
   "cell_type": "code",
   "execution_count": 15,
   "id": "6e50db51-deff-4a8d-b520-b408be8f3abf",
   "metadata": {},
   "outputs": [
    {
     "data": {
      "text/plain": [
       "[<matplotlib.lines.Line2D at 0x20e48968790>]"
      ]
     },
     "execution_count": 15,
     "metadata": {},
     "output_type": "execute_result"
    },
    {
     "data": {
      "image/png": "[encoded data removed]",
      "text/plain": [
       "<Figure size 432x288 with 1 Axes>"
      ]
     },
     "metadata": {
      "needs_background": "light"
     },
     "output_type": "display_data"
    }
   ],
   "source": [
    "plt.scatter(x,y)\n",
    "plt.plot(x,new_y)"
   ]
  },
  {
   "cell_type": "code",
   "execution_count": 21,
   "id": "849f7168-33e6-4b69-a6f3-1284a12af03c",
   "metadata": {},
   "outputs": [
    {
     "data": {
      "text/plain": [
       "2566.425"
      ]
     },
     "execution_count": 21,
     "metadata": {},
     "output_type": "execute_result"
    }
   ],
   "source": [
    "y14 = m*14 + eq\n",
    "y14"
   ]
  },
  {
   "cell_type": "code",
   "execution_count": 57,
   "id": "c0f4a995-9018-4010-9b3a-1616795a015f",
   "metadata": {},
   "outputs": [],
   "source": [
    "x=np.array([1,2,3,4,5,6,7,8,9,10,11,12,13])\n",
    "y=np.array([1859.40,2110.20,2018.00,1966.00,2166.00,2118.00,2054.30,2273.00,2501.95,2536.25,2433.00,2365.00,2451.20])"
   ]
  },
  {
   "cell_type": "code",
   "execution_count": 58,
   "id": "44aaa650-04a0-4ed3-8903-a06e075258a4",
   "metadata": {},
   "outputs": [
    {
     "data": {
      "text/plain": [
       "13"
      ]
     },
     "execution_count": 58,
     "metadata": {},
     "output_type": "execute_result"
    }
   ],
   "source": [
    "n = np.size(x)\n",
    "n"
   ]
  },
  {
   "cell_type": "code",
   "execution_count": 59,
   "id": "18ab1971-a2c6-40cd-a646-2a4fe65c6b2a",
   "metadata": {},
   "outputs": [
    {
     "data": {
      "text/plain": [
       "(7.0, 2219.4076923076927)"
      ]
     },
     "execution_count": 59,
     "metadata": {},
     "output_type": "execute_result"
    }
   ],
   "source": [
    "x_mean = np.mean(x)\n",
    "y_mean = np.mean(y)\n",
    "x_mean,y_mean"
   ]
  },
  {
   "cell_type": "code",
   "execution_count": 60,
   "id": "13234145-3bb8-4a38-a2c3-e4274db6a9f3",
   "metadata": {},
   "outputs": [
    {
     "data": {
      "text/plain": [
       "117291.8500000001"
      ]
     },
     "execution_count": 60,
     "metadata": {},
     "output_type": "execute_result"
    }
   ],
   "source": [
    "num = (n*np.sum(x*y))-(np.sum(x)*np.sum(y))\n",
    "num"
   ]
  },
  {
   "cell_type": "code",
   "execution_count": 61,
   "id": "9774ae26-2be0-43d4-a7c1-3286fb79b569",
   "metadata": {},
   "outputs": [
    {
     "data": {
      "text/plain": [
       "2366"
      ]
     },
     "execution_count": 61,
     "metadata": {},
     "output_type": "execute_result"
    }
   ],
   "source": [
    "den = (n*np.sum(x*x))-(np.sum(x)*np.sum(x))\n",
    "den"
   ]
  },
  {
   "cell_type": "code",
   "execution_count": 62,
   "id": "3c033c2c-196b-4089-b54e-3f092a01ccb8",
   "metadata": {},
   "outputs": [
    {
     "data": {
      "text/plain": [
       "49.57390109890114"
      ]
     },
     "execution_count": 62,
     "metadata": {},
     "output_type": "execute_result"
    }
   ],
   "source": [
    "B1= num/den\n",
    "B1"
   ]
  },
  {
   "cell_type": "code",
   "execution_count": 63,
   "id": "cc8a763f-6530-40ad-82a1-0e4bb022a287",
   "metadata": {},
   "outputs": [
    {
     "data": {
      "text/plain": [
       "array([1921.96428571, 1971.53818681, 2021.11208791, 2070.68598901,\n",
       "       2120.25989011, 2169.83379121, 2219.40769231, 2268.98159341,\n",
       "       2318.55549451, 2368.1293956 , 2417.7032967 , 2467.2771978 ,\n",
       "       2516.8510989 ])"
      ]
     },
     "execution_count": 63,
     "metadata": {},
     "output_type": "execute_result"
    }
   ],
   "source": [
    "y_new = B1 *x + eq\n",
    "y_new"
   ]
  },
  {
   "cell_type": "code",
   "execution_count": 64,
   "id": "63ca2a2c-9f48-413a-8ac9-6eeba05a9bc9",
   "metadata": {},
   "outputs": [],
   "source": [
    "x=np.array([1,2,3,4,5,6,7,8,9,10,11,12,13])\n",
    "y=np.array([1859.40,2110.20,2018.00,1966.00,2166.00,2118.00,2054.30,2273.00,2501.95,2536.25,2433.00,2365.00,2451.20])"
   ]
  },
  {
   "cell_type": "code",
   "execution_count": 65,
   "id": "432b1ede-c216-43a0-9a48-ce83368a1430",
   "metadata": {},
   "outputs": [
    {
     "data": {
      "text/plain": [
       "[<matplotlib.lines.Line2D at 0x20e48ca2940>]"
      ]
     },
     "execution_count": 65,
     "metadata": {},
     "output_type": "execute_result"
    },
    {
     "data": {
      "image/png": "[encoded data removed]",
      "text/plain": [
       "<Figure size 432x288 with 1 Axes>"
      ]
     },
     "metadata": {
      "needs_background": "light"
     },
     "output_type": "display_data"
    }
   ],
   "source": [
    "plt.scatter(x,y)\n",
    "plt.plot(x,y_new)"
   ]
  }
 ],
 "metadata": {
  "kernelspec": {
   "display_name": "Python 3",
   "language": "python",
   "name": "python3"
  },
  "language_info": {
   "codemirror_mode": {
    "name": "ipython",
    "version": 3
   },
   "file_extension": ".py",
   "mimetype": "text/x-python",
   "name": "python",
   "nbconvert_exporter": "python",
   "pygments_lexer": "ipython3",
   "version": "3.8.8"
  }
 },
 "nbformat": 4,
 "nbformat_minor": 5
}
