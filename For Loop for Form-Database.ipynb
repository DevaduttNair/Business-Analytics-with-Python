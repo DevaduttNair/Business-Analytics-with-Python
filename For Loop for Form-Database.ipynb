{
 "cells": [
  {
   "cell_type": "code",
   "execution_count": 5,
   "id": "b970bcf9-ae64-43a4-8eda-a11a6d954a21",
   "metadata": {},
   "outputs": [
    {
     "name": "stdin",
     "output_type": "stream",
     "text": [
      "Enter your Name James\n",
      "Enter Batch Code: BBA-1,BCom-2,Psychology-3 2\n"
     ]
    },
    {
     "name": "stdout",
     "output_type": "stream",
     "text": [
      "BCom Students ['James']\n"
     ]
    }
   ],
   "source": [
    "bba=[]\n",
    "bcom=[]\n",
    "psycho=[]\n",
    "\n",
    "name=str(input(\"Enter your Name\"))\n",
    "batch=int(input(\"Enter Batch Code: BBA-1,BCom-2,Psychology-3\"))\n",
    "\n",
    "if batch==1:\n",
    "    a=bba.append(name)\n",
    "    print(\"BBA Students\",bba)\n",
    "elif batch==2:\n",
    "    a=bcom.append(name)\n",
    "    print(\"BCom Students\",bcom)\n",
    "elif batch==3:\n",
    "    a=psycho.append(name)\n",
    "    print(\"Psychology\",psycho)\n",
    "else:\n",
    "    print(\"Invalid Batch Code\")"
   ]
  },
  {
   "cell_type": "code",
   "execution_count": null,
   "id": "ba5cf0d1-af35-482b-850f-4be08ac20ee5",
   "metadata": {},
   "outputs": [],
   "source": [
    ".\n"
   ]
  }
 ],
 "metadata": {
  "kernelspec": {
   "display_name": "Python 3",
   "language": "python",
   "name": "python3"
  },
  "language_info": {
   "codemirror_mode": {
    "name": "ipython",
    "version": 3
   },
   "file_extension": ".py",
   "mimetype": "text/x-python",
   "name": "python",
   "nbconvert_exporter": "python",
   "pygments_lexer": "ipython3",
   "version": "3.8.8"
  }
 },
 "nbformat": 4,
 "nbformat_minor": 5
}
