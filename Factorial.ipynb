{
 "cells": [
  {
   "cell_type": "code",
   "execution_count": null,
   "id": "659ca068-df58-4296-b961-839de1930fde",
   "metadata": {},
   "outputs": [],
   "source": [
    "x=int(input(\"Enter a Number\"))\n",
    "fact=1\n",
    "i=1\n",
    "while i<=x:\n",
    "    fact=fact*i\n",
    "    print(\"The factorial is\",f)"
   ]
  },
  {
   "cell_type": "code",
   "execution_count": null,
   "id": "742737f0-11ce-415d-9afd-63d63855667b",
   "metadata": {},
   "outputs": [],
   "source": []
  }
 ],
 "metadata": {
  "kernelspec": {
   "display_name": "Python 3",
   "language": "python",
   "name": "python3"
  },
  "language_info": {
   "codemirror_mode": {
    "name": "ipython",
    "version": 3
   },
   "file_extension": ".py",
   "mimetype": "text/x-python",
   "name": "python",
   "nbconvert_exporter": "python",
   "pygments_lexer": "ipython3",
   "version": "3.8.8"
  }
 },
 "nbformat": 4,
 "nbformat_minor": 5
}
