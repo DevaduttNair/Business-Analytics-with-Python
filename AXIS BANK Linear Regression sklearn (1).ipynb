{
 "cells": [
  {
   "cell_type": "code",
   "execution_count": 12,
   "id": "3c565462-fc2b-4b48-926e-d76a4f2f4c1f",
   "metadata": {},
   "outputs": [],
   "source": [
    "import numpy as np\n",
    "import matplotlib.pyplot as plt\n",
    "import pandas as pd"
   ]
  },
  {
   "cell_type": "code",
   "execution_count": 13,
   "id": "fdbd107c-51d5-4e65-a798-3b81b6577b60",
   "metadata": {},
   "outputs": [
    {
     "data": {
      "text/html": [
       "<div>\n",
       "<style scoped>\n",
       "    .dataframe tbody tr th:only-of-type {\n",
       "        vertical-align: middle;\n",
       "    }\n",
       "\n",
       "    .dataframe tbody tr th {\n",
       "        vertical-align: top;\n",
       "    }\n",
       "\n",
       "    .dataframe thead th {\n",
       "        text-align: right;\n",
       "    }\n",
       "</style>\n",
       "<table border=\"1\" class=\"dataframe\">\n",
       "  <thead>\n",
       "    <tr style=\"text-align: right;\">\n",
       "      <th></th>\n",
       "      <th>Date</th>\n",
       "      <th>Open</th>\n",
       "    </tr>\n",
       "  </thead>\n",
       "  <tbody>\n",
       "    <tr>\n",
       "      <th>0</th>\n",
       "      <td>1</td>\n",
       "      <td>659.00</td>\n",
       "    </tr>\n",
       "    <tr>\n",
       "      <th>1</th>\n",
       "      <td>2</td>\n",
       "      <td>678.00</td>\n",
       "    </tr>\n",
       "    <tr>\n",
       "      <th>2</th>\n",
       "      <td>2</td>\n",
       "      <td>676.00</td>\n",
       "    </tr>\n",
       "    <tr>\n",
       "      <th>3</th>\n",
       "      <td>4</td>\n",
       "      <td>661.30</td>\n",
       "    </tr>\n",
       "    <tr>\n",
       "      <th>4</th>\n",
       "      <td>5</td>\n",
       "      <td>676.00</td>\n",
       "    </tr>\n",
       "    <tr>\n",
       "      <th>...</th>\n",
       "      <td>...</td>\n",
       "      <td>...</td>\n",
       "    </tr>\n",
       "    <tr>\n",
       "      <th>244</th>\n",
       "      <td>221</td>\n",
       "      <td>680.25</td>\n",
       "    </tr>\n",
       "    <tr>\n",
       "      <th>245</th>\n",
       "      <td>221</td>\n",
       "      <td>701.00</td>\n",
       "    </tr>\n",
       "    <tr>\n",
       "      <th>246</th>\n",
       "      <td>222</td>\n",
       "      <td>711.90</td>\n",
       "    </tr>\n",
       "    <tr>\n",
       "      <th>247</th>\n",
       "      <td>223</td>\n",
       "      <td>719.95</td>\n",
       "    </tr>\n",
       "    <tr>\n",
       "      <th>248</th>\n",
       "      <td>224</td>\n",
       "      <td>734.00</td>\n",
       "    </tr>\n",
       "  </tbody>\n",
       "</table>\n",
       "<p>249 rows × 2 columns</p>\n",
       "</div>"
      ],
      "text/plain": [
       "     Date    Open\n",
       "0       1  659.00\n",
       "1       2  678.00\n",
       "2       2  676.00\n",
       "3       4  661.30\n",
       "4       5  676.00\n",
       "..    ...     ...\n",
       "244   221  680.25\n",
       "245   221  701.00\n",
       "246   222  711.90\n",
       "247   223  719.95\n",
       "248   224  734.00\n",
       "\n",
       "[249 rows x 2 columns]"
      ]
     },
     "execution_count": 13,
     "metadata": {},
     "output_type": "execute_result"
    }
   ],
   "source": [
    "df=pd.read_csv(\"AXISBANK.NS.csv\")\n",
    "df"
   ]
  },
  {
   "cell_type": "code",
   "execution_count": 17,
   "id": "80035262-6186-438b-b9f5-b5fe94582444",
   "metadata": {},
   "outputs": [],
   "source": [
    "x = df.iloc[:,:-1].values\n",
    "y = df.iloc[:,-1].values"
   ]
  },
  {
   "cell_type": "code",
   "execution_count": 20,
   "id": "f8c877bc-2e8b-4a1f-bda1-c25487186b64",
   "metadata": {},
   "outputs": [],
   "source": [
    "from sklearn.linear_model import LinearRegression"
   ]
  },
  {
   "cell_type": "code",
   "execution_count": 19,
   "id": "548d8fe5-821e-4216-963c-fafcbe5b9f01",
   "metadata": {},
   "outputs": [
    {
     "data": {
      "text/plain": [
       "LinearRegression()"
      ]
     },
     "execution_count": 19,
     "metadata": {},
     "output_type": "execute_result"
    }
   ],
   "source": [
    "reg = LinearRegression()\n",
    "reg.fit(x,y)"
   ]
  },
  {
   "cell_type": "code",
   "execution_count": 21,
   "id": "acfea831-908b-4f6b-95c2-f46e37abcb4a",
   "metadata": {},
   "outputs": [],
   "source": [
    "y_pred = reg.predict(x)"
   ]
  },
  {
   "cell_type": "code",
   "execution_count": 22,
   "id": "a6ff96c8-5d70-4090-b491-b95c0d5cdd96",
   "metadata": {},
   "outputs": [
    {
     "data": {
      "text/plain": [
       "array([715.70872087, 715.86009183, 715.86009183, 716.16283376,\n",
       "       716.31420472, 716.31420472, 716.46557568, 716.61694665,\n",
       "       716.76831761, 716.91968857, 717.07105954, 717.2224305 ,\n",
       "       717.37380146, 717.52517243, 717.67654339, 717.67654339,\n",
       "       717.82791435, 717.97928531, 718.13065628, 718.28202724,\n",
       "       718.4333982 , 718.58476917, 718.73614013, 718.88751109,\n",
       "       719.03888206, 719.03888206, 719.19025302, 719.34162398,\n",
       "       719.49299495, 719.64436591, 719.79573687, 719.94710784,\n",
       "       720.0984788 , 720.24984976, 720.40122073, 720.40122073,\n",
       "       720.55259169, 720.70396265, 720.85533362, 721.00670458,\n",
       "       721.15807554, 721.30944651, 721.46081747, 721.61218843,\n",
       "       721.7635594 , 721.7635594 , 721.91493036, 722.06630132,\n",
       "       722.21767229, 722.36904325, 722.52041421, 722.67178518,\n",
       "       722.82315614, 722.9745271 , 723.12589807, 723.12589807,\n",
       "       723.27726903, 723.42863999, 723.58001096, 723.73138192,\n",
       "       723.88275288, 724.03412385, 724.18549481, 724.33686577,\n",
       "       724.48823673, 724.48823673, 724.6396077 , 724.79097866,\n",
       "       724.94234962, 725.09372059, 725.24509155, 725.39646251,\n",
       "       725.54783348, 725.69920444, 725.8505754 , 725.8505754 ,\n",
       "       726.00194637, 726.15331733, 726.30468829, 726.45605926,\n",
       "       726.60743022, 726.75880118, 726.91017215, 727.06154311,\n",
       "       727.21291407, 727.21291407, 727.36428504, 727.515656  ,\n",
       "       727.66702696, 727.81839793, 727.96976889, 728.12113985,\n",
       "       728.27251082, 728.42388178, 728.57525274, 728.57525274,\n",
       "       728.72662371, 728.87799467, 729.02936563, 729.1807366 ,\n",
       "       729.33210756, 729.48347852, 729.63484949, 729.78622045,\n",
       "       729.93759141, 729.93759141, 730.08896238, 730.24033334,\n",
       "       730.3917043 , 730.54307526, 730.69444623, 730.84581719,\n",
       "       730.99718815, 731.14855912, 731.29993008, 731.29993008,\n",
       "       731.45130104, 731.60267201, 731.75404297, 731.90541393,\n",
       "       732.0567849 , 732.20815586, 732.35952682, 732.51089779,\n",
       "       732.66226875, 732.66226875, 732.81363971, 732.96501068,\n",
       "       733.11638164, 733.2677526 , 733.41912357, 733.57049453,\n",
       "       733.72186549, 733.87323646, 734.02460742, 734.02460742,\n",
       "       734.17597838, 734.32734935, 734.47872031, 734.63009127,\n",
       "       734.78146224, 734.9328332 , 735.08420416, 735.23557513,\n",
       "       735.38694609, 735.38694609, 735.53831705, 735.68968802,\n",
       "       735.84105898, 735.99242994, 736.14380091, 736.29517187,\n",
       "       736.44654283, 736.59791379, 736.74928476, 736.74928476,\n",
       "       736.90065572, 737.05202668, 737.20339765, 737.35476861,\n",
       "       737.50613957, 737.65751054, 737.8088815 , 737.96025246,\n",
       "       738.11162343, 738.11162343, 738.26299439, 738.41436535,\n",
       "       738.56573632, 738.71710728, 738.86847824, 739.01984921,\n",
       "       739.17122017, 739.32259113, 739.4739621 , 739.4739621 ,\n",
       "       739.62533306, 739.77670402, 739.92807499, 740.07944595,\n",
       "       740.23081691, 740.38218788, 740.53355884, 740.6849298 ,\n",
       "       740.83630077, 740.83630077, 740.98767173, 741.13904269,\n",
       "       741.29041366, 741.44178462, 741.59315558, 741.74452655,\n",
       "       741.89589751, 742.04726847, 742.19863944, 742.19863944,\n",
       "       742.3500104 , 742.50138136, 742.65275233, 742.80412329,\n",
       "       742.95549425, 743.10686521, 743.25823618, 743.40960714,\n",
       "       743.5609781 , 743.5609781 , 743.71234907, 743.86372003,\n",
       "       744.01509099, 744.16646196, 744.31783292, 744.46920388,\n",
       "       744.62057485, 744.77194581, 744.92331677, 744.92331677,\n",
       "       745.07468774, 745.2260587 , 745.37742966, 745.52880063,\n",
       "       745.68017159, 745.83154255, 745.98291352, 746.13428448,\n",
       "       746.28565544, 746.28565544, 746.43702641, 746.58839737,\n",
       "       746.73976833, 746.8911393 , 747.04251026, 747.19388122,\n",
       "       747.34525219, 747.49662315, 747.64799411, 747.64799411,\n",
       "       747.79936508, 747.95073604, 748.102107  , 748.25347797,\n",
       "       748.40484893, 748.55621989, 748.70759086, 748.85896182,\n",
       "       749.01033278, 749.01033278, 749.16170374, 749.31307471,\n",
       "       749.46444567])"
      ]
     },
     "execution_count": 22,
     "metadata": {},
     "output_type": "execute_result"
    }
   ],
   "source": [
    "y_pred"
   ]
  },
  {
   "cell_type": "code",
   "execution_count": 23,
   "id": "f27a2c64-e80f-4f27-856d-3550df98243c",
   "metadata": {},
   "outputs": [
    {
     "data": {
      "text/plain": [
       "[<matplotlib.lines.Line2D at 0x1f8c503d970>]"
      ]
     },
     "execution_count": 23,
     "metadata": {},
     "output_type": "execute_result"
    },
    {
     "data": {
      "image/png": "[encoded data removed]",
      "text/plain": [
       "<Figure size 432x288 with 1 Axes>"
      ]
     },
     "metadata": {
      "needs_background": "light"
     },
     "output_type": "display_data"
    }
   ],
   "source": [
    "plt.scatter(x,y)\n",
    "plt.plot(x,y_pred)"
   ]
  },
  {
   "cell_type": "code",
   "execution_count": 24,
   "id": "6814a64a-cf1a-4397-b87a-2eb2fc8981f5",
   "metadata": {},
   "outputs": [],
   "source": [
    "from sklearn.preprocessing import PolynomialFeatures"
   ]
  },
  {
   "cell_type": "code",
   "execution_count": 46,
   "id": "f30a231c-4d77-4a23-896f-6734b586d3c9",
   "metadata": {},
   "outputs": [],
   "source": [
    "poly_reg = PolynomialFeatures (degree = 25) "
   ]
  },
  {
   "cell_type": "code",
   "execution_count": 47,
   "id": "14dc06be-3117-4494-a85c-4c008c6459da",
   "metadata": {},
   "outputs": [],
   "source": [
    "x_poly = poly_reg.fit_transform(x)"
   ]
  },
  {
   "cell_type": "code",
   "execution_count": 48,
   "id": "13122fcd-b5fb-43f5-94ff-f1b4fb3e04e7",
   "metadata": {},
   "outputs": [],
   "source": [
    "LG = LinearRegression()"
   ]
  },
  {
   "cell_type": "code",
   "execution_count": 49,
   "id": "3fc8008f-fa38-418d-ad21-e066786c4e62",
   "metadata": {},
   "outputs": [
    {
     "data": {
      "text/plain": [
       "LinearRegression()"
      ]
     },
     "execution_count": 49,
     "metadata": {},
     "output_type": "execute_result"
    }
   ],
   "source": [
    "LG.fit(x_poly,y)"
   ]
  },
  {
   "cell_type": "code",
   "execution_count": 50,
   "id": "8573690e-d2d2-4d4f-82ae-d07822bb9297",
   "metadata": {},
   "outputs": [],
   "source": [
    "y_pred = LG.predict(poly_reg.fit_transform(x))"
   ]
  },
  {
   "cell_type": "code",
   "execution_count": 51,
   "id": "c838da6c-f15c-4012-a0bc-95868382392c",
   "metadata": {},
   "outputs": [
    {
     "data": {
      "text/plain": [
       "[<matplotlib.lines.Line2D at 0x1f8c5de6d00>]"
      ]
     },
     "execution_count": 51,
     "metadata": {},
     "output_type": "execute_result"
    },
    {
     "data": {
      "image/png": "[encoded data removed]",
      "text/plain": [
       "<Figure size 432x288 with 1 Axes>"
      ]
     },
     "metadata": {
      "needs_background": "light"
     },
     "output_type": "display_data"
    }
   ],
   "source": [
    "plt.scatter (x,y, color = 'cyan')\n",
    "plt.plot (x,y_pred, color = 'blue')"
   ]
  },
  {
   "cell_type": "code",
   "execution_count": null,
   "id": "24df839d-faf0-4159-85ab-191e7d049f83",
   "metadata": {},
   "outputs": [],
   "source": []
  }
 ],
 "metadata": {
  "kernelspec": {
   "display_name": "Python 3",
   "language": "python",
   "name": "python3"
  },
  "language_info": {
   "codemirror_mode": {
    "name": "ipython",
    "version": 3
   },
   "file_extension": ".py",
   "mimetype": "text/x-python",
   "name": "python",
   "nbconvert_exporter": "python",
   "pygments_lexer": "ipython3",
   "version": "3.8.8"
  }
 },
 "nbformat": 4,
 "nbformat_minor": 5
}
