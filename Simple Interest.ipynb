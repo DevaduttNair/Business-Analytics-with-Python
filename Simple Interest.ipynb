{
 "cells": [
  {
   "cell_type": "code",
   "execution_count": 6,
   "id": "95e5b54e-9cb1-4c90-ae49-d00f1f63cdf4",
   "metadata": {},
   "outputs": [
    {
     "name": "stdin",
     "output_type": "stream",
     "text": [
      "Enter Priciple Amount 5000\n",
      "Enter the Rate of Interest 5\n",
      "Enter the time 3\n"
     ]
    },
    {
     "name": "stdout",
     "output_type": "stream",
     "text": [
      "5750.0\n"
     ]
    }
   ],
   "source": [
    "p=int(input(\"Enter Priciple Amount\"))\n",
    "r=float(input(\"Enter the Rate of Interest\"))\n",
    "n=int(input(\"Enter the time\"))\n",
    "s=p+(p*(r/100)*n)\n",
    "print(s)"
   ]
  },
  {
   "cell_type": "code",
   "execution_count": null,
   "id": "b0365f18-e347-4b12-8597-638867e101d9",
   "metadata": {},
   "outputs": [],
   "source": []
  }
 ],
 "metadata": {
  "kernelspec": {
   "display_name": "Python 3",
   "language": "python",
   "name": "python3"
  },
  "language_info": {
   "codemirror_mode": {
    "name": "ipython",
    "version": 3
   },
   "file_extension": ".py",
   "mimetype": "text/x-python",
   "name": "python",
   "nbconvert_exporter": "python",
   "pygments_lexer": "ipython3",
   "version": "3.8.8"
  }
 },
 "nbformat": 4,
 "nbformat_minor": 5
}
