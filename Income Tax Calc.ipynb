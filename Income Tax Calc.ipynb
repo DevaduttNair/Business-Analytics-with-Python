{
 "cells": [
  {
   "cell_type": "code",
   "execution_count": 2,
   "id": "40886d44-c504-40b9-8a1b-a183290ff852",
   "metadata": {},
   "outputs": [
    {
     "name": "stdin",
     "output_type": "stream",
     "text": [
      "Enter Assessment Year: e.g., 2020-21  2021-22\n",
      "Residential Status: R= Resident, N= Non Resident R\n",
      "Enter Your Taxable Income:  1200000\n"
     ]
    },
    {
     "name": "stdout",
     "output_type": "stream",
     "text": [
      "Your Income Tax Liability is:  115000.0\n",
      "Healthcare & Education CESS:  4600.0\n",
      "Your Total Tax Liability is:  119600.0\n"
     ]
    }
   ],
   "source": [
    "year=str(input(\"Enter Assessment Year: e.g., 2020-21 \"))\n",
    "res=str(input(\"Residential Status: R= Resident, N= Non Resident\"))\n",
    "income=float(input(\"Enter Your Taxable Income: \"))\n",
    "\n",
    "if income <= 250000:\n",
    "        tax_owed=(income*0.00)+0\n",
    "elif ((income>250000) and (income<=500000)):\n",
    "        tax_owed=((income-250000)*0.05)\n",
    "elif ((income>500000) and (income<=750000)):\n",
    "        tax_owed=((income-500000)*0.1)+12500\n",
    "elif ((income>750000) and (income<=1000000)):\n",
    "        tax_owed=((income-750000)*0.15)+37500\n",
    "elif ((income>1000000) and (income<=1250000)):\n",
    "        tax_owed=((income-1000000)*0.2)+75000\n",
    "elif ((income>1250000) and (income<=1500000)):\n",
    "        tax_owed=((income-1250000)*0.25)+125000\n",
    "else:\n",
    "    tax_owed=((income-1500000)*0.3)+187500\n",
    "\n",
    "print(\"Your Income Tax Liability is: \",tax_owed)\n",
    "cess=(tax_owed*0.04)\n",
    "print(\"Healthcare & Education CESS: \",cess)\n",
    "ttl=tax_owed+cess\n",
    "print(\"Your Total Tax Liability is: \",ttl)"
   ]
  }
 ],
 "metadata": {
  "kernelspec": {
   "display_name": "Python 3",
   "language": "python",
   "name": "python3"
  },
  "language_info": {
   "codemirror_mode": {
    "name": "ipython",
    "version": 3
   },
   "file_extension": ".py",
   "mimetype": "text/x-python",
   "name": "python",
   "nbconvert_exporter": "python",
   "pygments_lexer": "ipython3",
   "version": "3.8.8"
  }
 },
 "nbformat": 4,
 "nbformat_minor": 5
}
