{
 "cells": [
  {
   "cell_type": "code",
   "execution_count": 3,
   "id": "e5a47af2-910c-4ccd-9ba9-0535cde7fb7f",
   "metadata": {},
   "outputs": [
    {
     "name": "stdout",
     "output_type": "stream",
     "text": [
      "The CPU usage is:  17.4\n",
      "RAM memory % used: 57.5\n"
     ]
    }
   ],
   "source": [
    "import psutil  # Importing the library\n",
    "\n",
    "# Calling psutil.cpu_precent() for 4 seconds\n",
    "\n",
    "print('The CPU usage is: ', psutil.cpu_percent(4)) \n",
    "print('RAM memory % used:', psutil.virtual_memory()[2])"
   ]
  },
  {
   "cell_type": "code",
   "execution_count": null,
   "id": "5ba14eca-59c1-409b-8878-644534fa9da7",
   "metadata": {},
   "outputs": [],
   "source": []
  }
 ],
 "metadata": {
  "kernelspec": {
   "display_name": "Python 3",
   "language": "python",
   "name": "python3"
  },
  "language_info": {
   "codemirror_mode": {
    "name": "ipython",
    "version": 3
   },
   "file_extension": ".py",
   "mimetype": "text/x-python",
   "name": "python",
   "nbconvert_exporter": "python",
   "pygments_lexer": "ipython3",
   "version": "3.8.8"
  }
 },
 "nbformat": 4,
 "nbformat_minor": 5
}
