{
 "cells": [
  {
   "cell_type": "code",
   "execution_count": null,
   "id": "fcc407b5-0d6f-4f9b-b294-f744e3cb65ba",
   "metadata": {},
   "outputs": [],
   "source": [
    "import math \n",
    "x = int(input(\"Enter your Number\"))\n",
    "a = int(input(\"Enter Function Code\")) \n",
    "if a == 1: \n",
    "     print(math.tan(x)) \n",
    "elif a == 2: \n",
    "    print(math.sin(x)) \n",
    "elif a == 3:\n",
    "    print(math.cos(x))\n",
    "elif a == 4:  \n",
    "    print(math.log(x)) "
   ]
  }
 ],
 "metadata": {
  "kernelspec": {
   "display_name": "Python 3",
   "language": "python",
   "name": "python3"
  },
  "language_info": {
   "codemirror_mode": {
    "name": "ipython",
    "version": 3
   },
   "file_extension": ".py",
   "mimetype": "text/x-python",
   "name": "python",
   "nbconvert_exporter": "python",
   "pygments_lexer": "ipython3",
   "version": "3.8.8"
  }
 },
 "nbformat": 4,
 "nbformat_minor": 5
}
