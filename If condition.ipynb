{
 "cells": [
  {
   "cell_type": "code",
   "execution_count": 1,
   "id": "dd9fa4f5-57a0-4c46-8192-898219a685e6",
   "metadata": {},
   "outputs": [
    {
     "name": "stdin",
     "output_type": "stream",
     "text": [
      "Enter a Number= 45\n"
     ]
    },
    {
     "name": "stdout",
     "output_type": "stream",
     "text": [
      "x is greater than 15\n",
      "India is my Country\n"
     ]
    }
   ],
   "source": [
    "x=int(input(\"Enter a Number=\"))\n",
    "if x > 15:\n",
    "    print(\"x is greater than 15\")\n",
    "    print(\"India is my Country\")\n",
    "if x < 15:\n",
    "    print (\"x is less than 15\")\n",
    "if x == 15:\n",
    "    print(\"x is equal to 15\")"
   ]
  },
  {
   "cell_type": "code",
   "execution_count": 3,
   "id": "2592d643-163b-4f2f-8e64-82ab57a82383",
   "metadata": {},
   "outputs": [
    {
     "name": "stdin",
     "output_type": "stream",
     "text": [
      "Enter Principle amount 10000\n",
      "Enter Time Period 4\n"
     ]
    },
    {
     "name": "stdout",
     "output_type": "stream",
     "text": [
      "13200.0\n"
     ]
    }
   ],
   "source": [
    "p=int(input(\"Enter Principle amount\"))\n",
    "n=int(input(\"Enter Time Period\"))\n",
    "if n > 6:\n",
    "    s=p+(p*(10/100)*n)\n",
    "if n <= 6:\n",
    "    s=p+(p*(8/100)*n)\n",
    "print(s)"
   ]
  },
  {
   "cell_type": "code",
   "execution_count": 4,
   "id": "ede5a12a-01a3-481f-968c-a74235dc77fc",
   "metadata": {},
   "outputs": [
    {
     "name": "stdin",
     "output_type": "stream",
     "text": [
      "Enter Principle amount 45000\n",
      "Enter Time Period 10\n"
     ]
    },
    {
     "name": "stdout",
     "output_type": "stream",
     "text": [
      "81000.0\n"
     ]
    }
   ],
   "source": [
    "p=int(input(\"Enter Principle amount\"))\n",
    "n=int(input(\"Enter Time Period\"))\n",
    "if p > 50000:\n",
    "    s=p+(p*(10/100)*n)\n",
    "if p <= 50000:\n",
    "    s=p+(p*(8/100)*n)\n",
    "print(s)"
   ]
  },
  {
   "cell_type": "code",
   "execution_count": 16,
   "id": "20b1a616-117d-4dfb-9fd5-3757f97efc36",
   "metadata": {},
   "outputs": [
    {
     "name": "stdin",
     "output_type": "stream",
     "text": [
      "Enter Principle amount 60000\n",
      "Enter Time Period 4\n"
     ]
    },
    {
     "name": "stdout",
     "output_type": "stream",
     "text": [
      "84000.0\n"
     ]
    }
   ],
   "source": [
    "p=int(input(\"Enter Principle amount\"))\n",
    "n=int(input(\"Enter Time Period\"))\n",
    "if p <= 50000:\n",
    " if n > 6:\n",
    "    s=p+(p*(10/100)*n)\n",
    "else:\n",
    " if n <= 6:\n",
    "    s=p+(p*(8/100)*n)\n",
    "    \n",
    "if p > 50000:\n",
    "    s=p+(p*(10/100)*n)  \n",
    "print(s)\n"
   ]
  },
  {
   "cell_type": "code",
   "execution_count": null,
   "id": "a69bbd50-0a3a-45ac-971b-2a9fbfa1a133",
   "metadata": {},
   "outputs": [],
   "source": []
  }
 ],
 "metadata": {
  "kernelspec": {
   "display_name": "Python 3",
   "language": "python",
   "name": "python3"
  },
  "language_info": {
   "codemirror_mode": {
    "name": "ipython",
    "version": 3
   },
   "file_extension": ".py",
   "mimetype": "text/x-python",
   "name": "python",
   "nbconvert_exporter": "python",
   "pygments_lexer": "ipython3",
   "version": "3.8.8"
  }
 },
 "nbformat": 4,
 "nbformat_minor": 5
}
