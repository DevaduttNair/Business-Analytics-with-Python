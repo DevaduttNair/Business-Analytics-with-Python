{
 "cells": [
  {
   "cell_type": "code",
   "execution_count": 3,
   "id": "be91dd4c-e8e7-4f89-81b5-51e79281b259",
   "metadata": {},
   "outputs": [],
   "source": [
    "def HELLO():\n",
    "    print(\"Hello from a function\")"
   ]
  },
  {
   "cell_type": "code",
   "execution_count": 4,
   "id": "c9ec3336-e8e6-445a-b701-4e22cdd44d08",
   "metadata": {},
   "outputs": [
    {
     "name": "stdout",
     "output_type": "stream",
     "text": [
      "Hello from a function\n"
     ]
    }
   ],
   "source": [
    "HELLO()"
   ]
  },
  {
   "cell_type": "code",
   "execution_count": 12,
   "id": "7c17c4df-b972-491c-8415-99d76651b102",
   "metadata": {},
   "outputs": [
    {
     "name": "stdout",
     "output_type": "stream",
     "text": [
      "30\n",
      "Hello from a function\n"
     ]
    }
   ],
   "source": [
    "x=10\n",
    "y=20\n",
    "z=x+y\n",
    "print(z)\n",
    "HELLO()"
   ]
  },
  {
   "cell_type": "code",
   "execution_count": 13,
   "id": "3301106f-2289-4d26-a805-8b8bc382a0c1",
   "metadata": {},
   "outputs": [],
   "source": [
    "def add():\n",
    "    x=int(input(\"Enter 1st Number\"))\n",
    "    y=int(input(\"Enter 2nd Number\"))\n",
    "    print(x+y)"
   ]
  },
  {
   "cell_type": "code",
   "execution_count": 14,
   "id": "f2ed318e-d237-4581-ad3d-aba90308a08b",
   "metadata": {},
   "outputs": [
    {
     "name": "stdin",
     "output_type": "stream",
     "text": [
      "Enter 1st Number 45\n",
      "Enter 2nd Number 55\n"
     ]
    },
    {
     "name": "stdout",
     "output_type": "stream",
     "text": [
      "100\n"
     ]
    }
   ],
   "source": [
    "add()"
   ]
  },
  {
   "cell_type": "code",
   "execution_count": 16,
   "id": "fe68d689-d745-4ea6-b7ca-627b46591bbf",
   "metadata": {},
   "outputs": [],
   "source": [
    "def sub():\n",
    "    x=int(input(\"Enter 1st Number\"))\n",
    "    y=int(input(\"Enter 2nd Number\"))\n",
    "    print(x-y)"
   ]
  },
  {
   "cell_type": "code",
   "execution_count": 17,
   "id": "16ffcb31-dffd-46d6-b606-05d296fa4447",
   "metadata": {},
   "outputs": [
    {
     "name": "stdin",
     "output_type": "stream",
     "text": [
      "Enter 1st Number 80\n",
      "Enter 2nd Number 20\n"
     ]
    },
    {
     "name": "stdout",
     "output_type": "stream",
     "text": [
      "60\n"
     ]
    }
   ],
   "source": [
    "sub()"
   ]
  },
  {
   "cell_type": "code",
   "execution_count": 18,
   "id": "9e9dfb36-049f-480c-a5fb-1b016c9e6b69",
   "metadata": {},
   "outputs": [],
   "source": [
    "def mul():\n",
    "    x=int(input(\"Enter 1st Number\"))\n",
    "    y=int(input(\"Enter 2nd Number\"))\n",
    "    print(x*y)"
   ]
  },
  {
   "cell_type": "code",
   "execution_count": 19,
   "id": "11858599-3c9f-4d85-ab34-dd076bdb5d13",
   "metadata": {},
   "outputs": [
    {
     "name": "stdin",
     "output_type": "stream",
     "text": [
      "Enter 1st Number 5\n",
      "Enter 2nd Number 6\n"
     ]
    },
    {
     "name": "stdout",
     "output_type": "stream",
     "text": [
      "30\n"
     ]
    }
   ],
   "source": [
    "mul()"
   ]
  },
  {
   "cell_type": "code",
   "execution_count": 20,
   "id": "3c933446-de55-45cb-8b0c-def7b09efd40",
   "metadata": {},
   "outputs": [],
   "source": [
    "def div():\n",
    "    x=float(input(\"Enter 1st Number\"))\n",
    "    y=float(input(\"Enter 2nd Number\"))\n",
    "    print(x/y)"
   ]
  },
  {
   "cell_type": "code",
   "execution_count": 21,
   "id": "e8a58075-5f44-47c6-bf6c-2fe46ce82c89",
   "metadata": {},
   "outputs": [
    {
     "name": "stdin",
     "output_type": "stream",
     "text": [
      "Enter 1st Number 65\n",
      "Enter 2nd Number 13\n"
     ]
    },
    {
     "name": "stdout",
     "output_type": "stream",
     "text": [
      "5.0\n"
     ]
    }
   ],
   "source": [
    "div()"
   ]
  },
  {
   "cell_type": "code",
   "execution_count": 25,
   "id": "8cdc84ca-f68a-4ece-845b-23b37152a483",
   "metadata": {},
   "outputs": [],
   "source": [
    "def calc():\n",
    "    x=int(input(\"Enter 1st Number\"))\n",
    "    y=int(input(\"Enter 2nd Number\"))\n",
    "    a=int(input(\"Enter Operation Code 1=+, 2=-, 3=x, 4=/ : \"))\n",
    "\n",
    "    if a == 1:\n",
    "        s=x+y\n",
    "    if a == 2:\n",
    "        s=x-y\n",
    "    if a == 3:\n",
    "        s=x*y\n",
    "    if a == 4:\n",
    "        s=x/y\n",
    "    if a > 4:\n",
    "        s=\"Invalid Command\"\n",
    "    print(s)"
   ]
  },
  {
   "cell_type": "code",
   "execution_count": 26,
   "id": "bd43e978-292a-4a07-986a-121910edd48a",
   "metadata": {},
   "outputs": [
    {
     "name": "stdin",
     "output_type": "stream",
     "text": [
      "Enter 1st Number 5\n",
      "Enter 2nd Number 4\n",
      "Enter Operation Code 1=+, 2=-, 3=x, 4=/ :  1\n"
     ]
    },
    {
     "name": "stdout",
     "output_type": "stream",
     "text": [
      "9\n"
     ]
    }
   ],
   "source": [
    "calc()"
   ]
  },
  {
   "cell_type": "code",
   "execution_count": 27,
   "id": "fe241d50-8cb5-44d5-8703-849696a0dcc9",
   "metadata": {},
   "outputs": [],
   "source": [
    "def addition(x,y):\n",
    "    z=x+y\n",
    "    print(z)"
   ]
  },
  {
   "cell_type": "code",
   "execution_count": 28,
   "id": "bc513521-85f9-481a-bbfb-6a15d77a67e6",
   "metadata": {},
   "outputs": [
    {
     "name": "stdin",
     "output_type": "stream",
     "text": [
      "Enter 1st No. 50\n",
      "Enter 2nd No. 20\n"
     ]
    },
    {
     "name": "stdout",
     "output_type": "stream",
     "text": [
      "70\n"
     ]
    }
   ],
   "source": [
    "x=int(input(\"Enter 1st No.\"))\n",
    "y=int(input(\"Enter 2nd No.\"))\n",
    "addition(x,y)"
   ]
  },
  {
   "cell_type": "code",
   "execution_count": 29,
   "id": "fa0ac0a1-02b2-4a2a-b45c-4d33216be6c2",
   "metadata": {},
   "outputs": [],
   "source": [
    "def subtraction(x,y):\n",
    "    z=x-y\n",
    "    print(z)"
   ]
  },
  {
   "cell_type": "code",
   "execution_count": 30,
   "id": "5c52b238-68fb-4f69-830f-c5daf8b21657",
   "metadata": {},
   "outputs": [
    {
     "name": "stdin",
     "output_type": "stream",
     "text": [
      "Enter 1st No. 50\n",
      "Enter 2nd No. 40\n"
     ]
    },
    {
     "name": "stdout",
     "output_type": "stream",
     "text": [
      "10\n"
     ]
    }
   ],
   "source": [
    "x=int(input(\"Enter 1st No.\"))\n",
    "y=int(input(\"Enter 2nd No.\"))\n",
    "subtraction(x,y)"
   ]
  },
  {
   "cell_type": "code",
   "execution_count": 31,
   "id": "6184bf07-ab44-4915-9cd6-a21fae78627b",
   "metadata": {},
   "outputs": [],
   "source": [
    "def multiply(x,y):\n",
    "    z=x*y\n",
    "    print(z)"
   ]
  },
  {
   "cell_type": "code",
   "execution_count": 32,
   "id": "7b2fd582-6fb4-40d0-8f5f-56638a5a1f4e",
   "metadata": {},
   "outputs": [
    {
     "name": "stdin",
     "output_type": "stream",
     "text": [
      "Enter 1st No. 5\n",
      "Enter 2nd No. 4\n"
     ]
    },
    {
     "name": "stdout",
     "output_type": "stream",
     "text": [
      "20\n"
     ]
    }
   ],
   "source": [
    "x=int(input(\"Enter 1st No.\"))\n",
    "y=int(input(\"Enter 2nd No.\"))\n",
    "multiply(x,y)"
   ]
  },
  {
   "cell_type": "code",
   "execution_count": 33,
   "id": "f4295200-a736-4055-8ed8-3f8ae86d9e10",
   "metadata": {},
   "outputs": [],
   "source": [
    "def division(x,y):\n",
    "    z=x/y\n",
    "    print(z)"
   ]
  },
  {
   "cell_type": "code",
   "execution_count": 35,
   "id": "eb01b03c-7d41-443a-9553-17524b74aba8",
   "metadata": {},
   "outputs": [
    {
     "name": "stdin",
     "output_type": "stream",
     "text": [
      "Enter 1st No. 80\n",
      "Enter 2nd No. 10\n"
     ]
    },
    {
     "name": "stdout",
     "output_type": "stream",
     "text": [
      "8.0\n"
     ]
    }
   ],
   "source": [
    "x=int(input(\"Enter 1st No.\"))\n",
    "y=int(input(\"Enter 2nd No.\"))\n",
    "division(x,y)"
   ]
  },
  {
   "cell_type": "code",
   "execution_count": null,
   "id": "48b3536a-1ee3-440f-98ea-ffe0b1664761",
   "metadata": {},
   "outputs": [],
   "source": []
  }
 ],
 "metadata": {
  "kernelspec": {
   "display_name": "Python 3",
   "language": "python",
   "name": "python3"
  },
  "language_info": {
   "codemirror_mode": {
    "name": "ipython",
    "version": 3
   },
   "file_extension": ".py",
   "mimetype": "text/x-python",
   "name": "python",
   "nbconvert_exporter": "python",
   "pygments_lexer": "ipython3",
   "version": "3.8.8"
  }
 },
 "nbformat": 4,
 "nbformat_minor": 5
}
