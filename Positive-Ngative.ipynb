{
 "cells": [
  {
   "cell_type": "code",
   "execution_count": 1,
   "id": "8b98c604-2ee8-4b67-ad97-00113ab585a6",
   "metadata": {},
   "outputs": [
    {
     "name": "stdin",
     "output_type": "stream",
     "text": [
      "Enter a Number 5\n"
     ]
    },
    {
     "name": "stdout",
     "output_type": "stream",
     "text": [
      "Positive\n"
     ]
    }
   ],
   "source": [
    "x=int(input(\"Enter a Number\"))\n",
    "if x > 0 :\n",
    "    print(\"Positive\")\n",
    "if x < 0 :\n",
    "    print(\"Negative\")\n",
    "if x == 0 :\n",
    "    print(\"Zero\")"
   ]
  },
  {
   "cell_type": "code",
   "execution_count": 2,
   "id": "8e724b99-7a23-4789-aba4-08eafb6aa40f",
   "metadata": {},
   "outputs": [
    {
     "name": "stdin",
     "output_type": "stream",
     "text": [
      "Enter a Number -8\n"
     ]
    },
    {
     "name": "stdout",
     "output_type": "stream",
     "text": [
      "x is Negative\n"
     ]
    }
   ],
   "source": [
    "x=int(input(\"Enter a Number\"))\n",
    "if x >= 0 :\n",
    "    if(x==0):\n",
    "        print(\"X is zero\")\n",
    "    else:\n",
    "        print(\"x is Positive\")\n",
    "else:\n",
    "    print(\"x is Negative\")"
   ]
  },
  {
   "cell_type": "code",
   "execution_count": 18,
   "id": "d4de7ce4-8ddf-45e2-8ae6-1aebdcfc54bc",
   "metadata": {},
   "outputs": [
    {
     "name": "stdin",
     "output_type": "stream",
     "text": [
      "Enter Principle amount 1000\n",
      "Enter Time Period 3\n"
     ]
    },
    {
     "name": "stdout",
     "output_type": "stream",
     "text": [
      "1240.0\n"
     ]
    }
   ],
   "source": [
    "p=int(input(\"Enter Principle amount\"))\n",
    "n=int(input(\"Enter Time Period\"))\n",
    "if p <= 50000:\n",
    "    if(n>6):\n",
    "        s=p+(p*(10/100)*n)\n",
    "    if(n==6):\n",
    "        s=p+(p*(8/100)*n)\n",
    "    else:\n",
    "        s=p+(p*(8/100)*n)\n",
    "        \n",
    "else:\n",
    "    if p > 50000:\n",
    "        s=p+(p*(10/100)*n)\n",
    "    \n",
    "print(s)"
   ]
  },
  {
   "cell_type": "code",
   "execution_count": 19,
   "id": "f80e7c5a-020c-4118-bc30-642c7d48dd63",
   "metadata": {},
   "outputs": [
    {
     "name": "stdin",
     "output_type": "stream",
     "text": [
      "Enter Principle amount 20000\n",
      "Enter Time Period 4\n"
     ]
    },
    {
     "name": "stdout",
     "output_type": "stream",
     "text": [
      "28000.0\n"
     ]
    }
   ],
   "source": [
    "p=int(input(\"Enter Principle amount\"))\n",
    "n=int(input(\"Enter Time Period\"))\n",
    "if n < 6 :\n",
    "    s=p+(p*(10/100)*n)\n",
    "else:\n",
    "    s=p+(p*(8/100)*n)   \n",
    "if p > 50000 :\n",
    "    s=p+(p*(10/100)*n)\n",
    "    \n",
    "print(s)"
   ]
  },
  {
   "cell_type": "code",
   "execution_count": 32,
   "id": "eb57164a-5717-4828-bdf2-034e7bb964a8",
   "metadata": {},
   "outputs": [
    {
     "data": {
      "text/plain": [
       "2"
      ]
     },
     "execution_count": 32,
     "metadata": {},
     "output_type": "execute_result"
    }
   ],
   "source": [
    "x=\"We are second year BBA Students\"\n",
    "x[0]\n",
    "x.upper()\n",
    "x.lower()\n",
    "x.partition(\"BBA\")\n",
    "x.split(\"BBA\")\n",
    "x.startswith(\"b\")\n",
    "x.count(\"B\")"
   ]
  },
  {
   "cell_type": "code",
   "execution_count": 37,
   "id": "c3259db0-f4a5-4ec9-85aa-615a97d4c6a1",
   "metadata": {},
   "outputs": [
    {
     "data": {
      "text/plain": [
       "2"
      ]
     },
     "execution_count": 37,
     "metadata": {},
     "output_type": "execute_result"
    }
   ],
   "source": [
    "x=\"This is Ernakulam\"\n",
    "x.count(\"i\")\n",
    "x.count(\"i\",3,6)\n",
    "x.index(\"E\")\n",
    "x.index(\"k\")\n",
    "x.index(\"i\")"
   ]
  },
  {
   "cell_type": "code",
   "execution_count": 43,
   "id": "aee16212-e542-42ae-8a31-6c988d9ae617",
   "metadata": {},
   "outputs": [
    {
     "data": {
      "text/plain": [
       "True"
      ]
     },
     "execution_count": 43,
     "metadata": {},
     "output_type": "execute_result"
    }
   ],
   "source": [
    "x=\"ABCD123\"\n",
    "x.isalnum()"
   ]
  },
  {
   "cell_type": "code",
   "execution_count": 58,
   "id": "a9c5b79a-3c97-48f3-8def-ba6c89c7503b",
   "metadata": {},
   "outputs": [
    {
     "name": "stdin",
     "output_type": "stream",
     "text": [
      "Enter your User ID devadutt\n",
      "Enter your Password 1234\n"
     ]
    },
    {
     "name": "stdout",
     "output_type": "stream",
     "text": [
      "Login Successful\n"
     ]
    }
   ],
   "source": [
    "user=str(input(\"Enter your User ID\"))\n",
    "password=int(input(\"Enter your Password\"))\n",
    "if user==\"devadutt\" and password==1234:\n",
    "    print(\"Login Successful\")\n",
    "else:\n",
    "    print(\"Incorrect Login Details\")"
   ]
  },
  {
   "cell_type": "code",
   "execution_count": null,
   "id": "156c6482-6aed-4f9c-aeee-0565614b5489",
   "metadata": {},
   "outputs": [],
   "source": []
  }
 ],
 "metadata": {
  "kernelspec": {
   "display_name": "Python 3",
   "language": "python",
   "name": "python3"
  },
  "language_info": {
   "codemirror_mode": {
    "name": "ipython",
    "version": 3
   },
   "file_extension": ".py",
   "mimetype": "text/x-python",
   "name": "python",
   "nbconvert_exporter": "python",
   "pygments_lexer": "ipython3",
   "version": "3.8.8"
  }
 },
 "nbformat": 4,
 "nbformat_minor": 5
}
