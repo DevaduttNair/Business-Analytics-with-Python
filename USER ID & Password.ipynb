{
 "cells": [
  {
   "cell_type": "code",
   "execution_count": 7,
   "id": "d26acbf7-4778-462c-9fc1-3d714c7e3fde",
   "metadata": {},
   "outputs": [
    {
     "name": "stdin",
     "output_type": "stream",
     "text": [
      "User ID devadutt\n",
      "Password devadutt1234\n"
     ]
    },
    {
     "name": "stdout",
     "output_type": "stream",
     "text": [
      "Invalid Login Credentials\n"
     ]
    }
   ],
   "source": [
    "x=str(input(\"User ID\"))\n",
    "y=str(input(\"Password\"))\n",
    "\n",
    "if x==\"devadutt\" and y==\"devadutt123\":\n",
    "    print(\"Login Successful\")\n",
    "    \n",
    "else:\n",
    "    print(\"Invalid Login Credentials\")"
   ]
  },
  {
   "cell_type": "code",
   "execution_count": null,
   "id": "8c983ffe-6002-47dc-9703-876e2aaa2e00",
   "metadata": {},
   "outputs": [],
   "source": []
  }
 ],
 "metadata": {
  "kernelspec": {
   "display_name": "Python 3",
   "language": "python",
   "name": "python3"
  },
  "language_info": {
   "codemirror_mode": {
    "name": "ipython",
    "version": 3
   },
   "file_extension": ".py",
   "mimetype": "text/x-python",
   "name": "python",
   "nbconvert_exporter": "python",
   "pygments_lexer": "ipython3",
   "version": "3.8.8"
  }
 },
 "nbformat": 4,
 "nbformat_minor": 5
}
