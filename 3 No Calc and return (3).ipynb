{
 "cells": [
  {
   "cell_type": "code",
   "execution_count": null,
   "id": "58ac7391-79d2-4826-aab6-e2ffc8c68c83",
   "metadata": {},
   "outputs": [],
   "source": [
    "x=int(input(\"Enter 1st Number\"))\n",
    "y=int(input(\"Enter 2nd Number\"))\n",
    "z=input(\"Enter the Operation\")\n",
    "\n",
    "def add(x,y):\n",
    "    z=x+y\n",
    "    return z\n",
    "def sub(x,y):\n",
    "    z=x-y\n",
    "    return z\n",
    "def mul(x,y):\n",
    "    z=x*y\n",
    "    return z\n",
    "def div(x,y):\n",
    "    z=x/y\n",
    "    return z\n",
    "\n",
    "\n",
    "if z==\"+\":\n",
    "    a = add(x,y)\n",
    "elif z==\"-\":\n",
    "    a = sub(x,y)\n",
    "elif z==\"*\":\n",
    "    a = mul(x,y)\n",
    "elif z==\"/\":\n",
    "    a = div(x,y)\n",
    "else :\n",
    "    a = print(\"Invalid Operation\")\n",
    "\n",
    "print(z)"
   ]
  },
  {
   "cell_type": "code",
   "execution_count": 2,
   "id": "d35330a0-2f52-4ceb-bdd2-53d9a615cb7e",
   "metadata": {},
   "outputs": [
    {
     "name": "stdin",
     "output_type": "stream",
     "text": [
      "Enter 1st Number 5\n",
      "Enter 2nd Number 25\n",
      "Enter the Operation +\n"
     ]
    },
    {
     "name": "stdout",
     "output_type": "stream",
     "text": [
      "The answer is: 30\n"
     ]
    },
    {
     "name": "stdin",
     "output_type": "stream",
     "text": [
      "If you want to continue, press Y or press N to exit n\n"
     ]
    },
    {
     "name": "stdout",
     "output_type": "stream",
     "text": [
      "Thank you for using the program\n"
     ]
    }
   ],
   "source": [
    "x=int(input(\"Enter 1st Number\"))\n",
    "y=int(input(\"Enter 2nd Number\"))\n",
    "z=input(\"Enter the Operation\")\n",
    "\n",
    "def add(x,y):\n",
    "    z=x+y\n",
    "    return z\n",
    "def sub(x,y):\n",
    "    z=x-y\n",
    "    return z\n",
    "def mul(x,y):\n",
    "    z=x*y\n",
    "    return z\n",
    "def div(x,y):\n",
    "    z=x/y\n",
    "    return z\n",
    "\n",
    "\n",
    "if z==\"+\":\n",
    "    a = add(x,y)\n",
    "elif z==\"-\":\n",
    "    a = sub(x,y)\n",
    "elif z==\"*\":\n",
    "    a = mul(x,y)\n",
    "elif z==\"/\":\n",
    "    a = div(x,y)\n",
    "else :\n",
    "    a = print(\"Invalid Operation\")\n",
    "\n",
    "print(\"The answer is:\",a)\n",
    "\n",
    "c=input(\"If you want to continue, press Y or press N to exit\")\n",
    "if c == \"N\" or \"n\":\n",
    "    print(\"Thank you for using the program\")\n",
    "elif c == \"Y\" or \"y\":\n",
    "    m=int(input(\"Enter the 3rd Number\"))\n",
    "    n=input(\"Enter the Operation\")\n",
    "    if n==\"+\":\n",
    "        b = add(a,m)\n",
    "    elif n==\"-\":\n",
    "        b = sub(a,m)\n",
    "    elif n==\"*\":\n",
    "        b = mul(a,m)\n",
    "    elif n==\"/\":\n",
    "        b = div(a,m)\n",
    "    else :\n",
    "        b = print(\"Invalid Operation\")\n",
    "    print(\"The final answer is:\",b)"
   ]
  },
  {
   "cell_type": "code",
   "execution_count": null,
   "id": "70a46423-7f70-4624-9eb7-dea6726539df",
   "metadata": {},
   "outputs": [],
   "source": []
  }
 ],
 "metadata": {
  "kernelspec": {
   "display_name": "Python 3",
   "language": "python",
   "name": "python3"
  },
  "language_info": {
   "codemirror_mode": {
    "name": "ipython",
    "version": 3
   },
   "file_extension": ".py",
   "mimetype": "text/x-python",
   "name": "python",
   "nbconvert_exporter": "python",
   "pygments_lexer": "ipython3",
   "version": "3.8.8"
  }
 },
 "nbformat": 4,
 "nbformat_minor": 5
}
