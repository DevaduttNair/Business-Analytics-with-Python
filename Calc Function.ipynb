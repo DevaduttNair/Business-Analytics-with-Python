{
 "cells": [
  {
   "cell_type": "code",
   "execution_count": 1,
   "id": "301a6c5d-a07c-43d7-9504-ef05b0f310e4",
   "metadata": {},
   "outputs": [],
   "source": [
    "def add(x,y):\n",
    "    z=x+y\n",
    "    print(z)"
   ]
  },
  {
   "cell_type": "code",
   "execution_count": 2,
   "id": "53af17c9-8118-4892-be68-6d66629196df",
   "metadata": {},
   "outputs": [],
   "source": [
    "def sub(x,y):\n",
    "    z=x-y\n",
    "    print(z)"
   ]
  },
  {
   "cell_type": "code",
   "execution_count": 3,
   "id": "9f363b69-362d-4367-b6c3-965af10b89b9",
   "metadata": {},
   "outputs": [],
   "source": [
    "def multiply(x,y):\n",
    "    z=x*y\n",
    "    print(z)"
   ]
  },
  {
   "cell_type": "code",
   "execution_count": 4,
   "id": "67bf06ac-cf7a-46ca-89b7-e62b1440e66b",
   "metadata": {},
   "outputs": [],
   "source": [
    "def div(x,y):\n",
    "    z=x/y\n",
    "    print(z)"
   ]
  },
  {
   "cell_type": "code",
   "execution_count": 14,
   "id": "0335d9d2-a45e-4992-b694-f0efc3c4f7d7",
   "metadata": {},
   "outputs": [],
   "source": [
    "def calculator():\n",
    "    x=int(input(\"Enter 1st Number\"))\n",
    "    y=int(input(\"Enter 2nd Number\"))\n",
    "    a=int(input(\"Enter Operation Code 1=+, 2=-, 3=x, 4=/ : \"))\n",
    "\n",
    "    if a == 1:\n",
    "        add(x,y)\n",
    "    if a == 2:\n",
    "        sub(x,y)\n",
    "    if a == 3:\n",
    "        multiply(x,y)\n",
    "    if a == 4:\n",
    "        div(x,y)\n",
    "    if a > 4:\n",
    "        z=\"Invalid Command\""
   ]
  },
  {
   "cell_type": "code",
   "execution_count": 15,
   "id": "7a430928-be9b-4618-98ed-e39a4e09ba3a",
   "metadata": {},
   "outputs": [
    {
     "name": "stdin",
     "output_type": "stream",
     "text": [
      "Enter 1st Number 40\n",
      "Enter 2nd Number 4\n",
      "Enter Operation Code 1=+, 2=-, 3=x, 4=/ :  4\n"
     ]
    },
    {
     "name": "stdout",
     "output_type": "stream",
     "text": [
      "10.0\n"
     ]
    }
   ],
   "source": [
    "calculator()"
   ]
  },
  {
   "cell_type": "code",
   "execution_count": null,
   "id": "b12cd51a-9d40-4788-b43d-f14cf36e96c8",
   "metadata": {},
   "outputs": [],
   "source": []
  }
 ],
 "metadata": {
  "kernelspec": {
   "display_name": "Python 3",
   "language": "python",
   "name": "python3"
  },
  "language_info": {
   "codemirror_mode": {
    "name": "ipython",
    "version": 3
   },
   "file_extension": ".py",
   "mimetype": "text/x-python",
   "name": "python",
   "nbconvert_exporter": "python",
   "pygments_lexer": "ipython3",
   "version": "3.8.8"
  }
 },
 "nbformat": 4,
 "nbformat_minor": 5
}
