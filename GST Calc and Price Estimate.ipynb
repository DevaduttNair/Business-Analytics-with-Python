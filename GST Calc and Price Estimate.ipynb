{
 "cells": [
  {
   "cell_type": "code",
   "execution_count": 1,
   "id": "605b8d61-f4bd-4abc-afe5-388772ee520e",
   "metadata": {},
   "outputs": [
    {
     "name": "stdin",
     "output_type": "stream",
     "text": [
      "Base Price 10000\n",
      "Enter the slab value: 0%,5%,12%,18%,28% 18\n",
      "Enter Road Development Cess 1\n",
      "Enter Road Tax 13\n",
      "Enter Economic Cess 5\n",
      "Enter VAT 10\n"
     ]
    },
    {
     "name": "stdout",
     "output_type": "stream",
     "text": [
      "Price 14700.0\n"
     ]
    },
    {
     "name": "stdin",
     "output_type": "stream",
     "text": [
      "Enter the total VAT 10\n"
     ]
    },
    {
     "name": "stdout",
     "output_type": "stream",
     "text": [
      "Total Price 16170.0\n"
     ]
    }
   ],
   "source": [
    "base=int(input(\"Base Price\"))\n",
    "gst=float(input(\"Enter the slab value: 0%,5%,12%,18%,28%\"))/100\n",
    "rdc=float(input(\"Enter Road Development Cess\"))/100\n",
    "rt=float(input(\"Enter Road Tax\"))/100\n",
    "ec=float(input(\"Enter Economic Cess\"))/100\n",
    "vat=float(input(\"Enter VAT\"))/100\n",
    "\n",
    "price = base+((gst+rdc+rt+ec+vat)*base)\n",
    "print(\"Price\",price)\n",
    "\n",
    "vat1=float(input(\"Enter the total VAT\"))/100\n",
    "total_price=price+(price*vat1)\n",
    "\n",
    "print(\"Total Price\",total_price)"
   ]
  },
  {
   "cell_type": "code",
   "execution_count": null,
   "id": "f14e257d-2f40-4f4b-a052-399a633f506c",
   "metadata": {},
   "outputs": [],
   "source": []
  }
 ],
 "metadata": {
  "kernelspec": {
   "display_name": "Python 3",
   "language": "python",
   "name": "python3"
  },
  "language_info": {
   "codemirror_mode": {
    "name": "ipython",
    "version": 3
   },
   "file_extension": ".py",
   "mimetype": "text/x-python",
   "name": "python",
   "nbconvert_exporter": "python",
   "pygments_lexer": "ipython3",
   "version": "3.8.8"
  }
 },
 "nbformat": 4,
 "nbformat_minor": 5
}
