{
 "cells": [
  {
   "cell_type": "code",
   "execution_count": 5,
   "id": "f859b82c-978a-462f-92ad-1faaf65a1b9d",
   "metadata": {},
   "outputs": [
    {
     "name": "stdin",
     "output_type": "stream",
     "text": [
      "Enter Assessment Year: e.g., 2020-21  2021-22\n",
      "Residential Status: R= Resident, N= Non Resident R\n",
      "Enter Your Taxable Income:  1400000\n"
     ]
    },
    {
     "name": "stdout",
     "output_type": "stream",
     "text": [
      "Your Income Tax is 162500.0\n",
      "Healthcare and Education CESS 6500.0\n",
      "Total Tax Liability is 169000.0\n"
     ]
    }
   ],
   "source": [
    "year=str(input(\"Enter Assessment Year: e.g., 2020-21 \"))\n",
    "res=str(input(\"Residential Status: R= Resident, N= Non Resident\"))\n",
    "income=float(input(\"Enter Your Taxable Income: \"))\n",
    "\n",
    "def taxation(a,b,c,d):\n",
    "    tax_owed=((a-b)*c)+d\n",
    "    print(\"Your Income Tax is\",tax_owed)\n",
    "    cess=tax_owed*0.04\n",
    "    print(\"Healthcare and Education CESS\",cess)\n",
    "    liability=tax_owed+cess\n",
    "    print(\"Total Tax Liability is\",liability)\n",
    "    \n",
    "if income <= 250000:\n",
    "        taxation(income,0,0,0)\n",
    "elif ((income>250000) and (income<=500000)):\n",
    "        taxation(income,250000,0.05,0)\n",
    "elif ((income>500000) and (income<=750000)):\n",
    "        taxation(income,500000,0.1,12500)\n",
    "elif ((income>750000) and (income<=1000000)):\n",
    "        taxation(income,750000,0.15,37500)\n",
    "elif ((income>1000000) and (income<=1250000)):\n",
    "        taxation(income,1000000,0.2,75000)\n",
    "elif ((income>1250000) and (income<=1500000)):\n",
    "        taxation(income,1250000,0.25,125000)\n",
    "else:\n",
    "    taxation(income,1500000,0.3,187500)"
   ]
  },
  {
   "cell_type": "code",
   "execution_count": null,
   "id": "cbfde375-1cd9-4d81-815e-6d17a26bde3a",
   "metadata": {},
   "outputs": [],
   "source": []
  }
 ],
 "metadata": {
  "kernelspec": {
   "display_name": "Python 3",
   "language": "python",
   "name": "python3"
  },
  "language_info": {
   "codemirror_mode": {
    "name": "ipython",
    "version": 3
   },
   "file_extension": ".py",
   "mimetype": "text/x-python",
   "name": "python",
   "nbconvert_exporter": "python",
   "pygments_lexer": "ipython3",
   "version": "3.8.8"
  }
 },
 "nbformat": 4,
 "nbformat_minor": 5
}
