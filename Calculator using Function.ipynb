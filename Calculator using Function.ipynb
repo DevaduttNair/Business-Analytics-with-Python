{
 "cells": [
  {
   "cell_type": "code",
   "execution_count": 1,
   "id": "8066f6db-303f-4013-a08e-b72187fb1a59",
   "metadata": {},
   "outputs": [],
   "source": [
    "def add(x,y):\n",
    "    print(x+y)"
   ]
  },
  {
   "cell_type": "code",
   "execution_count": 2,
   "id": "be0ed642-ab59-48e2-839a-733080d93dc1",
   "metadata": {},
   "outputs": [
    {
     "name": "stdout",
     "output_type": "stream",
     "text": [
      "9\n"
     ]
    }
   ],
   "source": [
    "add(4,5)"
   ]
  },
  {
   "cell_type": "code",
   "execution_count": 3,
   "id": "7ba4485c-7ab7-4bcb-8fd0-35d8962fe688",
   "metadata": {},
   "outputs": [],
   "source": [
    "a=10"
   ]
  },
  {
   "cell_type": "code",
   "execution_count": 4,
   "id": "6b6a41a8-14f2-49ad-8ef6-329dd3998677",
   "metadata": {},
   "outputs": [],
   "source": [
    "b=20"
   ]
  },
  {
   "cell_type": "code",
   "execution_count": 5,
   "id": "5274f7ea-e00c-4d73-979b-87a84c2fceeb",
   "metadata": {},
   "outputs": [
    {
     "name": "stdout",
     "output_type": "stream",
     "text": [
      "30\n"
     ]
    }
   ],
   "source": [
    "print(a+b)"
   ]
  },
  {
   "cell_type": "code",
   "execution_count": 6,
   "id": "bba3c32d-5d53-49c5-88b6-6561ad63aaaf",
   "metadata": {},
   "outputs": [
    {
     "name": "stdout",
     "output_type": "stream",
     "text": [
      "60\n"
     ]
    }
   ],
   "source": [
    "add(10,50)"
   ]
  },
  {
   "cell_type": "code",
   "execution_count": 7,
   "id": "71a0eece-edce-4162-ba9b-d67017d27013",
   "metadata": {},
   "outputs": [],
   "source": [
    "def sub(x,y):\n",
    "    print(x-y)"
   ]
  },
  {
   "cell_type": "code",
   "execution_count": 8,
   "id": "be768f7d-732d-4208-8ec1-2d519d6d1d5f",
   "metadata": {},
   "outputs": [
    {
     "name": "stdout",
     "output_type": "stream",
     "text": [
      "7\n"
     ]
    }
   ],
   "source": [
    "sub(10,3)"
   ]
  },
  {
   "cell_type": "code",
   "execution_count": 9,
   "id": "11cb5a45-3534-4ff5-997a-1d2eb2a3f837",
   "metadata": {},
   "outputs": [],
   "source": [
    "def mul(x,y):\n",
    "    print(x*y)"
   ]
  },
  {
   "cell_type": "code",
   "execution_count": 10,
   "id": "bab9d20f-c490-481b-a050-5e450cf69822",
   "metadata": {},
   "outputs": [
    {
     "name": "stdout",
     "output_type": "stream",
     "text": [
      "15\n"
     ]
    }
   ],
   "source": [
    "mul(3,5)"
   ]
  },
  {
   "cell_type": "code",
   "execution_count": 11,
   "id": "20b37a48-2c49-4db7-8413-5e284d1fa59e",
   "metadata": {},
   "outputs": [],
   "source": [
    "def div(x,y):\n",
    "    print(x/y)"
   ]
  },
  {
   "cell_type": "code",
   "execution_count": 12,
   "id": "2d54aa76-be3b-461b-9a0d-4d2fc0f0889c",
   "metadata": {},
   "outputs": [
    {
     "name": "stdout",
     "output_type": "stream",
     "text": [
      "10.0\n"
     ]
    }
   ],
   "source": [
    "div(80,8)"
   ]
  },
  {
   "cell_type": "code",
   "execution_count": 15,
   "id": "43d2ff2b-e9a8-418d-ad72-2a5fba93fc15",
   "metadata": {},
   "outputs": [
    {
     "name": "stdin",
     "output_type": "stream",
     "text": [
      "Enter 1st Number 5\n",
      "Enter the Operation /\n",
      "Enter 2nd Number 2\n"
     ]
    },
    {
     "name": "stdout",
     "output_type": "stream",
     "text": [
      "2.5\n"
     ]
    }
   ],
   "source": [
    "x=int(input(\"Enter 1st Number\"))\n",
    "z=input(\"Enter the Operation\")\n",
    "y=int(input(\"Enter 2nd Number\"))\n",
    "\n",
    "if z==\"+\":\n",
    "    add(x,y)\n",
    "elif z==\"-\":\n",
    "    sub(x,y)\n",
    "elif z==\"*\":\n",
    "    mul(x,y)\n",
    "elif z==\"/\":\n",
    "    div(x,y)\n",
    "else :\n",
    "    print(\"Invalid Operation\")\n",
    "    "
   ]
  },
  {
   "cell_type": "code",
   "execution_count": null,
   "id": "df129911-6ec1-4020-bf84-f24aa9e6a99d",
   "metadata": {},
   "outputs": [],
   "source": []
  }
 ],
 "metadata": {
  "kernelspec": {
   "display_name": "Python 3",
   "language": "python",
   "name": "python3"
  },
  "language_info": {
   "codemirror_mode": {
    "name": "ipython",
    "version": 3
   },
   "file_extension": ".py",
   "mimetype": "text/x-python",
   "name": "python",
   "nbconvert_exporter": "python",
   "pygments_lexer": "ipython3",
   "version": "3.8.8"
  }
 },
 "nbformat": 4,
 "nbformat_minor": 5
}
