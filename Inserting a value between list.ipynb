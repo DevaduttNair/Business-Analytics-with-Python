{
 "cells": [
  {
   "cell_type": "code",
   "execution_count": 7,
   "id": "e529820a-6c5b-4391-afcd-9288ff665fbd",
   "metadata": {},
   "outputs": [
    {
     "name": "stdout",
     "output_type": "stream",
     "text": [
      "[3, 6, 4, 63, 8, 12, 1, 7]\n"
     ]
    }
   ],
   "source": [
    " # Create a random list and insert a random value in between the list\n",
    "\n",
    "x=[3,6,4,8,12,1,7]\n",
    "x.insert(3,63) # Here 3 indicates the index position, the value 4 is stored in index 3 and the no. is added after that\n",
    "print(x)"
   ]
  },
  {
   "cell_type": "code",
   "execution_count": null,
   "id": "d41f9eae-89de-4257-a436-8d5d1990ca66",
   "metadata": {},
   "outputs": [],
   "source": []
  }
 ],
 "metadata": {
  "kernelspec": {
   "display_name": "Python 3",
   "language": "python",
   "name": "python3"
  },
  "language_info": {
   "codemirror_mode": {
    "name": "ipython",
    "version": 3
   },
   "file_extension": ".py",
   "mimetype": "text/x-python",
   "name": "python",
   "nbconvert_exporter": "python",
   "pygments_lexer": "ipython3",
   "version": "3.8.8"
  }
 },
 "nbformat": 4,
 "nbformat_minor": 5
}
