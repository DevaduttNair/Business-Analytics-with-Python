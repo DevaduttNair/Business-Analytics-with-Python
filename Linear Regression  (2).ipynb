{
 "cells": [
  {
   "cell_type": "code",
   "execution_count": 4,
   "id": "7daa0ec8-8e8f-4b5a-baa2-98407c46d85d",
   "metadata": {},
   "outputs": [],
   "source": [
    "import numpy as np\n",
    "import matplotlib.pyplot as plt"
   ]
  },
  {
   "cell_type": "code",
   "execution_count": 5,
   "id": "6a88cec2-0f3a-49dd-8a17-c5607dcfeacd",
   "metadata": {},
   "outputs": [],
   "source": [
    "x=np.array([1,2,3,4,5,6,7,8,9,10])\n",
    "y=np.array([5,12,18,19,23,29,34,42,40,47])\n",
    "x_mean = np.mean(x)\n",
    "y_mean = np.mean(y)"
   ]
  },
  {
   "cell_type": "code",
   "execution_count": 6,
   "id": "efa841f4-c0c8-45c0-9379-6ee2fa6f3636",
   "metadata": {},
   "outputs": [
    {
     "data": {
      "text/plain": [
       "array([-4.5, -3.5, -2.5, -1.5, -0.5,  0.5,  1.5,  2.5,  3.5,  4.5])"
      ]
     },
     "execution_count": 6,
     "metadata": {},
     "output_type": "execute_result"
    }
   ],
   "source": [
    "a = x - x_mean\n",
    "a"
   ]
  },
  {
   "cell_type": "code",
   "execution_count": 7,
   "id": "3b1864bf-4a2f-4c13-ad70-f86c773e07ae",
   "metadata": {},
   "outputs": [
    {
     "data": {
      "text/plain": [
       "array([-21.9, -14.9,  -8.9,  -7.9,  -3.9,   2.1,   7.1,  15.1,  13.1,\n",
       "        20.1])"
      ]
     },
     "execution_count": 7,
     "metadata": {},
     "output_type": "execute_result"
    }
   ],
   "source": [
    "b = y - y_mean\n",
    "b"
   ]
  },
  {
   "cell_type": "code",
   "execution_count": 8,
   "id": "42ba4f1a-b034-466d-b0bc-6ea8e7d5de3d",
   "metadata": {},
   "outputs": [
    {
     "data": {
      "text/plain": [
       "array([98.55, 52.15, 22.25, 11.85,  1.95,  1.05, 10.65, 37.75, 45.85,\n",
       "       90.45])"
      ]
     },
     "execution_count": 8,
     "metadata": {},
     "output_type": "execute_result"
    }
   ],
   "source": [
    "c = a*b\n",
    "c"
   ]
  },
  {
   "cell_type": "code",
   "execution_count": 9,
   "id": "7fa4ee74-6a50-4367-8576-12b6c74a8a26",
   "metadata": {},
   "outputs": [
    {
     "data": {
      "text/plain": [
       "372.5"
      ]
     },
     "execution_count": 9,
     "metadata": {},
     "output_type": "execute_result"
    }
   ],
   "source": [
    "d = sum(c)\n",
    "d"
   ]
  },
  {
   "cell_type": "code",
   "execution_count": 10,
   "id": "2fc0499b-d286-43e6-b748-b50c3b1096af",
   "metadata": {},
   "outputs": [
    {
     "data": {
      "text/plain": [
       "array([20.25, 12.25,  6.25,  2.25,  0.25,  0.25,  2.25,  6.25, 12.25,\n",
       "       20.25])"
      ]
     },
     "execution_count": 10,
     "metadata": {},
     "output_type": "execute_result"
    }
   ],
   "source": [
    "e = (a)**2\n",
    "e"
   ]
  },
  {
   "cell_type": "code",
   "execution_count": 11,
   "id": "13972646-f09a-4e57-a4b0-cc0b89d5f7ac",
   "metadata": {},
   "outputs": [
    {
     "data": {
      "text/plain": [
       "82.5"
      ]
     },
     "execution_count": 11,
     "metadata": {},
     "output_type": "execute_result"
    }
   ],
   "source": [
    "f = sum(e)\n",
    "f"
   ]
  },
  {
   "cell_type": "code",
   "execution_count": 12,
   "id": "0ee1c9b7-0922-4742-8d28-d3b8c18f8393",
   "metadata": {},
   "outputs": [
    {
     "data": {
      "text/plain": [
       "4.515151515151516"
      ]
     },
     "execution_count": 12,
     "metadata": {},
     "output_type": "execute_result"
    }
   ],
   "source": [
    "m = d/f\n",
    "m"
   ]
  },
  {
   "cell_type": "code",
   "execution_count": 13,
   "id": "d74a46a1-4e9c-49c3-868b-c668fae1a132",
   "metadata": {},
   "outputs": [],
   "source": [
    "# find the value of c\n",
    "# y_ = m*x_ + c\n",
    "\n",
    "# y - m*X_ = c"
   ]
  },
  {
   "cell_type": "code",
   "execution_count": 16,
   "id": "1ef4c721-979d-4bf6-a52b-f1c4dcd12c80",
   "metadata": {},
   "outputs": [
    {
     "data": {
      "text/plain": [
       "2.066666666666663"
      ]
     },
     "execution_count": 16,
     "metadata": {},
     "output_type": "execute_result"
    }
   ],
   "source": [
    "eq = (y_mean) - ((m)*(x_mean)) # eq is the c in equation of line\n",
    "eq"
   ]
  },
  {
   "cell_type": "code",
   "execution_count": 19,
   "id": "c27d84eb-c03a-4629-bf6f-2e5cb69b2a5c",
   "metadata": {},
   "outputs": [
    {
     "data": {
      "text/plain": [
       "array([ 6.58181818, 11.0969697 , 15.61212121, 20.12727273, 24.64242424,\n",
       "       29.15757576, 33.67272727, 38.18787879, 42.7030303 , 47.21818182])"
      ]
     },
     "execution_count": 19,
     "metadata": {},
     "output_type": "execute_result"
    }
   ],
   "source": [
    "new_y = ((m)*(x)) + eq\n",
    "new_y"
   ]
  },
  {
   "cell_type": "code",
   "execution_count": 20,
   "id": "5056d71f-7a1f-4560-af67-6f5c3fc98915",
   "metadata": {},
   "outputs": [
    {
     "data": {
      "text/plain": [
       "<matplotlib.collections.PathCollection at 0x1ef3e46fa60>"
      ]
     },
     "execution_count": 20,
     "metadata": {},
     "output_type": "execute_result"
    },
    {
     "data": {
      "image/png": "[encoded data removed]",
      "text/plain": [
       "<Figure size 432x288 with 1 Axes>"
      ]
     },
     "metadata": {
      "needs_background": "light"
     },
     "output_type": "display_data"
    }
   ],
   "source": [
    "plt.scatter(x,y)"
   ]
  },
  {
   "cell_type": "code",
   "execution_count": 23,
   "id": "737aec6a-4009-4beb-a195-4d2bfe042a91",
   "metadata": {},
   "outputs": [
    {
     "data": {
      "text/plain": [
       "[<matplotlib.lines.Line2D at 0x1ef3ec47cd0>]"
      ]
     },
     "execution_count": 23,
     "metadata": {},
     "output_type": "execute_result"
    },
    {
     "data": {
      "image/png": "[encoded data removed]",
      "text/plain": [
       "<Figure size 432x288 with 1 Axes>"
      ]
     },
     "metadata": {
      "needs_background": "light"
     },
     "output_type": "display_data"
    }
   ],
   "source": [
    "plt.plot(x,new_y)"
   ]
  },
  {
   "cell_type": "code",
   "execution_count": 24,
   "id": "e855162c-562c-4c70-888a-9afd21825e72",
   "metadata": {},
   "outputs": [
    {
     "data": {
      "text/plain": [
       "[<matplotlib.lines.Line2D at 0x1ef3ecb3670>]"
      ]
     },
     "execution_count": 24,
     "metadata": {},
     "output_type": "execute_result"
    },
    {
     "data": {
      "image/png": "[encoded data removed]",
      "text/plain": [
       "<Figure size 432x288 with 1 Axes>"
      ]
     },
     "metadata": {
      "needs_background": "light"
     },
     "output_type": "display_data"
    }
   ],
   "source": [
    "plt.scatter(x,y)\n",
    "plt.plot(x,new_y)"
   ]
  },
  {
   "cell_type": "code",
   "execution_count": null,
   "id": "2abc8eed-b0d4-458f-90f1-11f9054357a6",
   "metadata": {},
   "outputs": [],
   "source": []
  }
 ],
 "metadata": {
  "kernelspec": {
   "display_name": "Python 3",
   "language": "python",
   "name": "python3"
  },
  "language_info": {
   "codemirror_mode": {
    "name": "ipython",
    "version": 3
   },
   "file_extension": ".py",
   "mimetype": "text/x-python",
   "name": "python",
   "nbconvert_exporter": "python",
   "pygments_lexer": "ipython3",
   "version": "3.8.8"
  }
 },
 "nbformat": 4,
 "nbformat_minor": 5
}
