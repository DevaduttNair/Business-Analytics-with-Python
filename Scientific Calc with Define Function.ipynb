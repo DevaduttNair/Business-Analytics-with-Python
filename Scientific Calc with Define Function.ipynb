{
 "cells": [
  {
   "cell_type": "code",
   "execution_count": 1,
   "id": "5245728b-267c-4c08-9eb0-91177cb253d8",
   "metadata": {},
   "outputs": [
    {
     "name": "stdin",
     "output_type": "stream",
     "text": [
      "Enter your Number 45\n",
      "Enter Function Code log\n"
     ]
    },
    {
     "name": "stdout",
     "output_type": "stream",
     "text": [
      "0.8509035245341184\n"
     ]
    }
   ],
   "source": [
    "import math \n",
    "x = int(input(\"Enter your Number\"))\n",
    "a = (input(\"Enter Function Code\"))\n",
    "\n",
    "def sin(x):\n",
    "    z=math.sin(x)\n",
    "    return z\n",
    "def cos(x):\n",
    "    z=math.cos(x)\n",
    "    return z\n",
    "def tan(x):\n",
    "    z=math.tan(x)\n",
    "    return z\n",
    "def log(x):\n",
    "    z=math.log(x)\n",
    "    return z\n",
    "\n",
    "if a == \"Sin\" or \"sin\" or \"SIN\":\n",
    "    a=sin(x) \n",
    "elif a == \"Cos\" or \"cos\" or \"COS\":\n",
    "    a=cos(x) \n",
    "elif a == \"Tan\" or \"tan\" or \"TAN\":\n",
    "    a=tan(x)\n",
    "elif a == \"Log\" or \"log\" or \"LOG\":\n",
    "    a=log(x)\n",
    "\n",
    "print (a)"
   ]
  },
  {
   "cell_type": "code",
   "execution_count": null,
   "id": "5081eb46-1085-4680-ba2d-289370401237",
   "metadata": {},
   "outputs": [],
   "source": []
  }
 ],
 "metadata": {
  "kernelspec": {
   "display_name": "Python 3",
   "language": "python",
   "name": "python3"
  },
  "language_info": {
   "codemirror_mode": {
    "name": "ipython",
    "version": 3
   },
   "file_extension": ".py",
   "mimetype": "text/x-python",
   "name": "python",
   "nbconvert_exporter": "python",
   "pygments_lexer": "ipython3",
   "version": "3.8.8"
  }
 },
 "nbformat": 4,
 "nbformat_minor": 5
}
