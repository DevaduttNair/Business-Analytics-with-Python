{
 "cells": [
  {
   "cell_type": "code",
   "execution_count": 1,
   "id": "d0e8ff78-1e08-49f3-acc6-1eb440e5c456",
   "metadata": {},
   "outputs": [
    {
     "data": {
      "text/plain": [
       "300"
      ]
     },
     "execution_count": 1,
     "metadata": {},
     "output_type": "execute_result"
    }
   ],
   "source": [
    "xx=100\n",
    "xy=200\n",
    "xx+xy"
   ]
  },
  {
   "cell_type": "code",
   "execution_count": 2,
   "id": "80802731-ad69-451e-9a68-9b3b56af096f",
   "metadata": {},
   "outputs": [
    {
     "data": {
      "text/plain": [
       "10000"
      ]
     },
     "execution_count": 2,
     "metadata": {},
     "output_type": "execute_result"
    }
   ],
   "source": [
    "jovan=100\n",
    "devadutt=100\n",
    "jovan*devadutt"
   ]
  },
  {
   "cell_type": "code",
   "execution_count": 3,
   "id": "ed236d53-6ddc-4159-9a0b-509577cd5081",
   "metadata": {},
   "outputs": [],
   "source": [
    "print=100"
   ]
  },
  {
   "cell_type": "code",
   "execution_count": 4,
   "id": "8477ec42-29e1-4920-9808-bb9d5fc4f3a1",
   "metadata": {},
   "outputs": [
    {
     "ename": "TypeError",
     "evalue": "'int' object is not callable",
     "output_type": "error",
     "traceback": [
      "\u001b[1;31m---------------------------------------------------------------------------\u001b[0m",
      "\u001b[1;31mTypeError\u001b[0m                                 Traceback (most recent call last)",
      "\u001b[1;32m<ipython-input-4-0a7a4e00b480>\u001b[0m in \u001b[0;36m<module>\u001b[1;34m\u001b[0m\n\u001b[0;32m      1\u001b[0m \u001b[0mprint\u001b[0m\u001b[1;33m=\u001b[0m\u001b[1;36m100\u001b[0m\u001b[1;33m\u001b[0m\u001b[1;33m\u001b[0m\u001b[0m\n\u001b[1;32m----> 2\u001b[1;33m \u001b[0mprint\u001b[0m\u001b[1;33m(\u001b[0m\u001b[0mprint\u001b[0m\u001b[1;33m)\u001b[0m\u001b[1;33m\u001b[0m\u001b[1;33m\u001b[0m\u001b[0m\n\u001b[0m",
      "\u001b[1;31mTypeError\u001b[0m: 'int' object is not callable"
     ]
    }
   ],
   "source": [
    "print=100\n",
    "print(print)"
   ]
  },
  {
   "cell_type": "code",
   "execution_count": 5,
   "id": "7d2c4e00-cd1a-4f59-ad4d-59eefc8a5227",
   "metadata": {},
   "outputs": [],
   "source": [
    "ABC=10"
   ]
  },
  {
   "cell_type": "code",
   "execution_count": 6,
   "id": "18823124-406d-46b5-bd82-5e6b2e8a1ba6",
   "metadata": {},
   "outputs": [],
   "source": [
    "Abc=10"
   ]
  },
  {
   "cell_type": "code",
   "execution_count": 7,
   "id": "3e97f5cd-1896-48ea-9b23-2ef19ed84bc6",
   "metadata": {},
   "outputs": [],
   "source": [
    "abc=10"
   ]
  },
  {
   "cell_type": "code",
   "execution_count": 10,
   "id": "bdea64f9-bc45-44fd-9a37-bbb8f106099e",
   "metadata": {},
   "outputs": [],
   "source": [
    "aBC=10"
   ]
  },
  {
   "cell_type": "code",
   "execution_count": 11,
   "id": "6927b60b-811b-405a-b6e2-ffef0e5df2bf",
   "metadata": {},
   "outputs": [],
   "source": [
    "a_bc=10"
   ]
  },
  {
   "cell_type": "code",
   "execution_count": 12,
   "id": "68c0f626-9f4d-4f5b-b0b7-7888b0b45181",
   "metadata": {},
   "outputs": [
    {
     "ename": "SyntaxError",
     "evalue": "invalid syntax (<ipython-input-12-eb132473e491>, line 1)",
     "output_type": "error",
     "traceback": [
      "\u001b[1;36m  File \u001b[1;32m\"<ipython-input-12-eb132473e491>\"\u001b[1;36m, line \u001b[1;32m1\u001b[0m\n\u001b[1;33m    1abc=10\u001b[0m\n\u001b[1;37m     ^\u001b[0m\n\u001b[1;31mSyntaxError\u001b[0m\u001b[1;31m:\u001b[0m invalid syntax\n"
     ]
    }
   ],
   "source": [
    "1abc=10"
   ]
  },
  {
   "cell_type": "code",
   "execution_count": 13,
   "id": "0fe1ee39-10ac-4a6e-93a3-0490110428b5",
   "metadata": {},
   "outputs": [
    {
     "ename": "SyntaxError",
     "evalue": "invalid syntax (<ipython-input-13-00478ecfad8e>, line 1)",
     "output_type": "error",
     "traceback": [
      "\u001b[1;36m  File \u001b[1;32m\"<ipython-input-13-00478ecfad8e>\"\u001b[1;36m, line \u001b[1;32m1\u001b[0m\n\u001b[1;33m    a b=10\u001b[0m\n\u001b[1;37m      ^\u001b[0m\n\u001b[1;31mSyntaxError\u001b[0m\u001b[1;31m:\u001b[0m invalid syntax\n"
     ]
    }
   ],
   "source": [
    "a b=10"
   ]
  },
  {
   "cell_type": "code",
   "execution_count": 20,
   "id": "ddac9f4a-8d15-4c1d-ac09-f38e31b435f0",
   "metadata": {},
   "outputs": [],
   "source": [
    "x, y, z = \"Orange\", \"Banana\", 2"
   ]
  },
  {
   "cell_type": "code",
   "execution_count": 19,
   "id": "d253eec5-5f12-41ab-b49f-4bb77ef0c358",
   "metadata": {},
   "outputs": [
    {
     "data": {
      "text/plain": [
       "'Orange'"
      ]
     },
     "execution_count": 19,
     "metadata": {},
     "output_type": "execute_result"
    }
   ],
   "source": [
    "x"
   ]
  },
  {
   "cell_type": "code",
   "execution_count": 21,
   "id": "3b17f329-147f-4ef0-a072-2701a7a26238",
   "metadata": {},
   "outputs": [
    {
     "data": {
      "text/plain": [
       "2"
      ]
     },
     "execution_count": 21,
     "metadata": {},
     "output_type": "execute_result"
    }
   ],
   "source": [
    "z"
   ]
  },
  {
   "cell_type": "code",
   "execution_count": 17,
   "id": "fa75a740-9e2d-4cb2-aa37-8c5d771df0a2",
   "metadata": {},
   "outputs": [
    {
     "data": {
      "text/plain": [
       "'Banana'"
      ]
     },
     "execution_count": 17,
     "metadata": {},
     "output_type": "execute_result"
    }
   ],
   "source": [
    "y"
   ]
  },
  {
   "cell_type": "code",
   "execution_count": 22,
   "id": "bf99a9d0-7f91-4126-9ce4-3ef824d9a70f",
   "metadata": {},
   "outputs": [],
   "source": [
    "x = y = z = 2"
   ]
  },
  {
   "cell_type": "code",
   "execution_count": 23,
   "id": "d08ec2cb-585f-498c-be26-a9ad6d877d40",
   "metadata": {},
   "outputs": [
    {
     "data": {
      "text/plain": [
       "2"
      ]
     },
     "execution_count": 23,
     "metadata": {},
     "output_type": "execute_result"
    }
   ],
   "source": [
    "x"
   ]
  },
  {
   "cell_type": "code",
   "execution_count": 24,
   "id": "22d111ce-f1df-4f27-a14b-5c28c8e2e377",
   "metadata": {},
   "outputs": [
    {
     "data": {
      "text/plain": [
       "2"
      ]
     },
     "execution_count": 24,
     "metadata": {},
     "output_type": "execute_result"
    }
   ],
   "source": [
    "y"
   ]
  },
  {
   "cell_type": "code",
   "execution_count": 25,
   "id": "b1bdc6e1-b200-4dcb-be32-a927023576dd",
   "metadata": {},
   "outputs": [
    {
     "data": {
      "text/plain": [
       "2"
      ]
     },
     "execution_count": 25,
     "metadata": {},
     "output_type": "execute_result"
    }
   ],
   "source": [
    "2"
   ]
  },
  {
   "cell_type": "code",
   "execution_count": 26,
   "id": "5f6f9d53-afba-40be-b6e9-0764619ad7d1",
   "metadata": {},
   "outputs": [
    {
     "data": {
      "text/plain": [
       "2"
      ]
     },
     "execution_count": 26,
     "metadata": {},
     "output_type": "execute_result"
    }
   ],
   "source": [
    "z"
   ]
  },
  {
   "cell_type": "code",
   "execution_count": null,
   "id": "1dc472eb-f2ae-4439-b65e-817f13868bdb",
   "metadata": {},
   "outputs": [],
   "source": []
  }
 ],
 "metadata": {
  "kernelspec": {
   "display_name": "Python 3",
   "language": "python",
   "name": "python3"
  },
  "language_info": {
   "codemirror_mode": {
    "name": "ipython",
    "version": 3
   },
   "file_extension": ".py",
   "mimetype": "text/x-python",
   "name": "python",
   "nbconvert_exporter": "python",
   "pygments_lexer": "ipython3",
   "version": "3.8.8"
  }
 },
 "nbformat": 4,
 "nbformat_minor": 5
}
