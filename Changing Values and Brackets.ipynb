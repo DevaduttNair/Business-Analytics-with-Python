{
 "cells": [
  {
   "cell_type": "code",
   "execution_count": 1,
   "id": "57291af4-c402-43f5-8c1e-db08cd4c5c2b",
   "metadata": {},
   "outputs": [
    {
     "name": "stdout",
     "output_type": "stream",
     "text": [
      "5\n"
     ]
    }
   ],
   "source": [
    "x=[5,4,9,7,8,55,64]\n",
    "print(x[0])"
   ]
  },
  {
   "cell_type": "code",
   "execution_count": 2,
   "id": "ed5b0c75-ce95-4b32-8d64-ef71c557fcab",
   "metadata": {},
   "outputs": [
    {
     "data": {
      "text/plain": [
       "64"
      ]
     },
     "execution_count": 2,
     "metadata": {},
     "output_type": "execute_result"
    }
   ],
   "source": [
    "x[-1]"
   ]
  },
  {
   "cell_type": "code",
   "execution_count": 3,
   "id": "51777bab-c0d3-4409-8459-195c925e0424",
   "metadata": {},
   "outputs": [],
   "source": [
    "x[-1]=100"
   ]
  },
  {
   "cell_type": "code",
   "execution_count": 4,
   "id": "8a106e61-0408-4b88-a44c-f03820152e83",
   "metadata": {},
   "outputs": [
    {
     "name": "stdout",
     "output_type": "stream",
     "text": [
      "[5, 4, 9, 7, 8, 55, 100]\n"
     ]
    }
   ],
   "source": [
    "print(x)"
   ]
  },
  {
   "cell_type": "code",
   "execution_count": 5,
   "id": "09951a58-cbdc-42e0-99e1-c6c7c508f73a",
   "metadata": {},
   "outputs": [],
   "source": [
    "a={3,5,7,1,8,9,12,17} #{} Brackets are used to print the values in the list in ascending order. This is known as a SET"
   ]
  },
  {
   "cell_type": "code",
   "execution_count": 6,
   "id": "f2c65582-e115-49de-90d9-4f91c5537951",
   "metadata": {},
   "outputs": [
    {
     "name": "stdout",
     "output_type": "stream",
     "text": [
      "{1, 3, 5, 7, 8, 9, 12, 17}\n"
     ]
    }
   ],
   "source": [
    "print(a)"
   ]
  },
  {
   "cell_type": "code",
   "execution_count": 7,
   "id": "c66329fd-bae8-4b76-9033-8692011a33dd",
   "metadata": {},
   "outputs": [],
   "source": [
    "x={5,4,9,8,5,7,5,1,5} #If the values are repeated, the program will remove the duplicates"
   ]
  },
  {
   "cell_type": "code",
   "execution_count": 8,
   "id": "04eaefad-d3bf-461c-81bb-95e66811e50d",
   "metadata": {},
   "outputs": [
    {
     "name": "stdout",
     "output_type": "stream",
     "text": [
      "{1, 4, 5, 7, 8, 9}\n"
     ]
    }
   ],
   "source": [
    "print(x)"
   ]
  },
  {
   "cell_type": "code",
   "execution_count": 9,
   "id": "cf37d202-b717-4269-aa27-bebaaabae245",
   "metadata": {},
   "outputs": [],
   "source": [
    "x=(5,4,8,9,7,6) #List created using (), is called Tupple, This list iis constant and no edits can be made to the same."
   ]
  },
  {
   "cell_type": "code",
   "execution_count": 11,
   "id": "5b065eeb-ac3c-49b5-b1fe-c8d7fc6ce277",
   "metadata": {},
   "outputs": [
    {
     "ename": "SyntaxError",
     "evalue": "cannot assign to function call (<ipython-input-11-1c4818c5de41>, line 1)",
     "output_type": "error",
     "traceback": [
      "\u001b[1;36m  File \u001b[1;32m\"<ipython-input-11-1c4818c5de41>\"\u001b[1;36m, line \u001b[1;32m1\u001b[0m\n\u001b[1;33m    x(-1)=100\u001b[0m\n\u001b[1;37m    ^\u001b[0m\n\u001b[1;31mSyntaxError\u001b[0m\u001b[1;31m:\u001b[0m cannot assign to function call\n"
     ]
    }
   ],
   "source": [
    "x(-1)=100"
   ]
  },
  {
   "cell_type": "code",
   "execution_count": null,
   "id": "18d9723d-61ee-4e51-9415-64dad2e0d95f",
   "metadata": {},
   "outputs": [],
   "source": []
  }
 ],
 "metadata": {
  "kernelspec": {
   "display_name": "Python 3",
   "language": "python",
   "name": "python3"
  },
  "language_info": {
   "codemirror_mode": {
    "name": "ipython",
    "version": 3
   },
   "file_extension": ".py",
   "mimetype": "text/x-python",
   "name": "python",
   "nbconvert_exporter": "python",
   "pygments_lexer": "ipython3",
   "version": "3.8.8"
  }
 },
 "nbformat": 4,
 "nbformat_minor": 5
}
