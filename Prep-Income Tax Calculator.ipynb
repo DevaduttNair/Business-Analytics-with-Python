{
 "cells": [
  {
   "cell_type": "code",
   "execution_count": 3,
   "id": "77916b86-efc2-4426-9f40-645198c0f45c",
   "metadata": {},
   "outputs": [
    {
     "name": "stdin",
     "output_type": "stream",
     "text": [
      "Enter yout income in Lakhs 3\n"
     ]
    },
    {
     "name": "stdout",
     "output_type": "stream",
     "text": [
      "Base Tax\n"
     ]
    }
   ],
   "source": [
    "income=int(input(\"Enter yout income in Lakhs\"))\n",
    "if ((income>=2) and (income<=5)):\n",
    "    print(\"Base Tax\")\n",
    "else:\n",
    "    print(\"Special Tax Rates\")"
   ]
  },
  {
   "cell_type": "code",
   "execution_count": 5,
   "id": "98421ae3-55ec-405a-847c-7e73b99dd136",
   "metadata": {},
   "outputs": [
    {
     "name": "stdin",
     "output_type": "stream",
     "text": [
      "Enter your income 5\n"
     ]
    },
    {
     "name": "stdout",
     "output_type": "stream",
     "text": [
      "Tax rate is 10%\n"
     ]
    }
   ],
   "source": [
    "income=int(input(\"Enter your income\"))\n",
    "if ((income<=2) or (income>=50)):\n",
    "    print(\"Tax rate is 5%\")\n",
    "else:\n",
    "    print(\"Tax rate is 10%\")"
   ]
  },
  {
   "cell_type": "code",
   "execution_count": null,
   "id": "a2aa1cce-56bf-4736-b738-6431cfeb007b",
   "metadata": {},
   "outputs": [],
   "source": []
  }
 ],
 "metadata": {
  "kernelspec": {
   "display_name": "Python 3",
   "language": "python",
   "name": "python3"
  },
  "language_info": {
   "codemirror_mode": {
    "name": "ipython",
    "version": 3
   },
   "file_extension": ".py",
   "mimetype": "text/x-python",
   "name": "python",
   "nbconvert_exporter": "python",
   "pygments_lexer": "ipython3",
   "version": "3.8.8"
  }
 },
 "nbformat": 4,
 "nbformat_minor": 5
}
