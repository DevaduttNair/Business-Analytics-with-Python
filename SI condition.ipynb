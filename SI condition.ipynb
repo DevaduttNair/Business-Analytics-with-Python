{
 "cells": [
  {
   "cell_type": "code",
   "execution_count": null,
   "id": "e703d379-b94f-4c71-ae88-c69101f0b783",
   "metadata": {},
   "outputs": [],
   "source": [
    "p=int(input(\"Enter Principle Amount\"))\n",
    "n=int(input(\"Enter the time period\"))\n",
    "if n <= 6:\n",
    "    s=p+(p*0.08*n)\n",
    "    print(s)\n",
    "else:\n",
    "    s=p+(p*0.1*n)\n",
    "    print(s)\n",
    "if p > 50000:\n",
    "    s=p+(p*0.1*n)\n",
    "    print(s)"
   ]
  },
  {
   "cell_type": "code",
   "execution_count": null,
   "id": "41194fb5-fcce-43ed-96e3-9a9331d45bb7",
   "metadata": {},
   "outputs": [],
   "source": []
  }
 ],
 "metadata": {
  "kernelspec": {
   "display_name": "Python 3",
   "language": "python",
   "name": "python3"
  },
  "language_info": {
   "codemirror_mode": {
    "name": "ipython",
    "version": 3
   },
   "file_extension": ".py",
   "mimetype": "text/x-python",
   "name": "python",
   "nbconvert_exporter": "python",
   "pygments_lexer": "ipython3",
   "version": "3.8.8"
  }
 },
 "nbformat": 4,
 "nbformat_minor": 5
}
