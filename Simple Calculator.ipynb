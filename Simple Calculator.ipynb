{
 "cells": [
  {
   "cell_type": "code",
   "execution_count": 3,
   "id": "ac91fa43-873f-43d3-ac93-c8e1f27e56eb",
   "metadata": {},
   "outputs": [
    {
     "name": "stdin",
     "output_type": "stream",
     "text": [
      "Enter 1st Number 10\n",
      "Enter 2nd Number 3\n",
      "Enter Operation Code 1=+, 2=-, 3=x, 4=/ :  3\n"
     ]
    },
    {
     "name": "stdout",
     "output_type": "stream",
     "text": [
      "30\n"
     ]
    }
   ],
   "source": [
    "x=int(input(\"Enter 1st Number\"))\n",
    "y=int(input(\"Enter 2nd Number\"))\n",
    "z=int(input(\"Enter Operation Code 1=+, 2=-, 3=x, 4=/ : \"))\n",
    "\n",
    "if z == 1:\n",
    "    s=x+y\n",
    "if z == 2:\n",
    "    s=x-y\n",
    "if z == 3:\n",
    "    s=x*y\n",
    "if z == 4:\n",
    "    s=x/y\n",
    "if z > 4:\n",
    "    s=\"Invalid Command\"\n",
    "print(s)"
   ]
  },
  {
   "cell_type": "code",
   "execution_count": 9,
   "id": "29f9c8ae-7f42-4f08-89d9-1db22630b298",
   "metadata": {},
   "outputs": [
    {
     "name": "stdin",
     "output_type": "stream",
     "text": [
      "Enter 1st Number 6\n",
      "Enter 2nd Number 4\n",
      "Enter Operation Text: add, sub, multiply, div add\n"
     ]
    },
    {
     "name": "stdout",
     "output_type": "stream",
     "text": [
      "10\n"
     ]
    }
   ],
   "source": [
    "x=int(input(\"Enter 1st Number\"))\n",
    "y=int(input(\"Enter 2nd Number\"))\n",
    "z=input(\"Enter Operation Text: add, sub, multiply, div\")\n",
    "\n",
    "if z == \"add\":\n",
    "    s=x+y\n",
    "if z == \"sub\":\n",
    "    s=x-y\n",
    "if z == \"multiply\":\n",
    "    s=x*y\n",
    "if z == \"div\":\n",
    "    s=x/y\n",
    "print(s)"
   ]
  },
  {
   "cell_type": "code",
   "execution_count": null,
   "id": "0ab32ee3-0ab9-4776-ae89-54d91e944c92",
   "metadata": {},
   "outputs": [],
   "source": []
  }
 ],
 "metadata": {
  "kernelspec": {
   "display_name": "Python 3",
   "language": "python",
   "name": "python3"
  },
  "language_info": {
   "codemirror_mode": {
    "name": "ipython",
    "version": 3
   },
   "file_extension": ".py",
   "mimetype": "text/x-python",
   "name": "python",
   "nbconvert_exporter": "python",
   "pygments_lexer": "ipython3",
   "version": "3.8.8"
  }
 },
 "nbformat": 4,
 "nbformat_minor": 5
}
