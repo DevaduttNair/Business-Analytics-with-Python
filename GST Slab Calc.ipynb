{
 "cells": [
  {
   "cell_type": "code",
   "execution_count": 1,
   "id": "c52ec851-6346-4c1c-ad31-116dcbe39346",
   "metadata": {},
   "outputs": [
    {
     "name": "stdin",
     "output_type": "stream",
     "text": [
      "Enter Base Price 10000\n",
      "Enter GST Code: 1= 0%, 2=5%, 3= 12%, 4= 18%, 5= 28% 4\n"
     ]
    },
    {
     "name": "stdout",
     "output_type": "stream",
     "text": [
      "Total Price: 11800.0\n"
     ]
    }
   ],
   "source": [
    "base=int(input(\"Enter Base Price\"))\n",
    "gst=int(input(\"Enter GST Code: 1= 0%, 2=5%, 3= 12%, 4= 18%, 5= 28%\"))\n",
    "\n",
    "if gst == 1:\n",
    "        gst_price=base+(base*0)\n",
    "elif gst == 2:\n",
    "        gst_price=base+(base*0.05)\n",
    "elif gst == 3:\n",
    "        gst_price=base+(base*0.12)\n",
    "elif gst == 4:\n",
    "        gst_price=base+(base*0.18)\n",
    "elif gst == 5:\n",
    "        gst_price=base+(base*0.28)\n",
    "else:\n",
    "        gst_price=\"Invalid Tax Code\"\n",
    "\n",
    "print(\"Total Price:\",gst_price)"
   ]
  }
 ],
 "metadata": {
  "kernelspec": {
   "display_name": "Python 3",
   "language": "python",
   "name": "python3"
  },
  "language_info": {
   "codemirror_mode": {
    "name": "ipython",
    "version": 3
   },
   "file_extension": ".py",
   "mimetype": "text/x-python",
   "name": "python",
   "nbconvert_exporter": "python",
   "pygments_lexer": "ipython3",
   "version": "3.8.8"
  }
 },
 "nbformat": 4,
 "nbformat_minor": 5
}
