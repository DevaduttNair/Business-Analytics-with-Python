{
 "cells": [
  {
   "cell_type": "code",
   "execution_count": 1,
   "id": "7223ca54-1806-4bb6-80d7-da80d9e730f7",
   "metadata": {},
   "outputs": [],
   "source": [
    "import numpy as np\n",
    "import matplotlib.pyplot as plt"
   ]
  },
  {
   "cell_type": "code",
   "execution_count": 2,
   "id": "bc8484a9-ec02-41f0-9c26-aa9861c2f4cf",
   "metadata": {},
   "outputs": [],
   "source": [
    "x = np.array([1,2,3,4,5,6,7,8,9,10,11,12,13])\n",
    "y = np.array([285.10,395.10,367.70,349.60,426.05,420.30,434.75,427.50,448.50,508.50,464.45,462.00,493.45])"
   ]
  },
  {
   "cell_type": "code",
   "execution_count": 3,
   "id": "d9bb34fe-54a0-45a1-bccb-f93204d9015b",
   "metadata": {},
   "outputs": [],
   "source": [
    "x=x.reshape(-1,1)"
   ]
  },
  {
   "cell_type": "code",
   "execution_count": 4,
   "id": "953ded43-522b-4dfb-95fb-5a83473af76c",
   "metadata": {},
   "outputs": [],
   "source": [
    "from sklearn.linear_model import LinearRegression"
   ]
  },
  {
   "cell_type": "code",
   "execution_count": 5,
   "id": "b922eb90-d80f-423c-a32c-b7366ffb486e",
   "metadata": {},
   "outputs": [],
   "source": [
    "reg = LinearRegression().fit(x,y)"
   ]
  },
  {
   "cell_type": "code",
   "execution_count": 6,
   "id": "9e8774d3-91b7-4a3f-9d9f-4260ac0d7b2d",
   "metadata": {},
   "outputs": [],
   "source": [
    "ynew = reg.predict(x)"
   ]
  },
  {
   "cell_type": "code",
   "execution_count": 7,
   "id": "98242ae5-cb4f-458d-9b74-69fb38af8629",
   "metadata": {},
   "outputs": [
    {
     "data": {
      "text/plain": [
       "array([339.33846154, 353.07692308, 366.81538462, 380.55384615,\n",
       "       394.29230769, 408.03076923, 421.76923077, 435.50769231,\n",
       "       449.24615385, 462.98461538, 476.72307692, 490.46153846,\n",
       "       504.2       ])"
      ]
     },
     "execution_count": 7,
     "metadata": {},
     "output_type": "execute_result"
    }
   ],
   "source": [
    "ynew"
   ]
  },
  {
   "cell_type": "code",
   "execution_count": 10,
   "id": "3fbba8c9-865f-4a49-a2f5-293a52db250b",
   "metadata": {},
   "outputs": [
    {
     "data": {
      "text/plain": [
       "[<matplotlib.lines.Line2D at 0x2461f4963d0>]"
      ]
     },
     "execution_count": 10,
     "metadata": {},
     "output_type": "execute_result"
    },
    {
     "data": {
      "image/png": "[encoded data removed]",
      "text/plain": [
       "<Figure size 432x288 with 1 Axes>"
      ]
     },
     "metadata": {
      "needs_background": "light"
     },
     "output_type": "display_data"
    }
   ],
   "source": [
    "plt.scatter(x,y)\n",
    "plt.plot(x,ynew)"
   ]
  },
  {
   "cell_type": "code",
   "execution_count": null,
   "id": "e9031f49-dffa-47e4-b82a-16a46c39a7f5",
   "metadata": {},
   "outputs": [],
   "source": []
  }
 ],
 "metadata": {
  "kernelspec": {
   "display_name": "Python 3",
   "language": "python",
   "name": "python3"
  },
  "language_info": {
   "codemirror_mode": {
    "name": "ipython",
    "version": 3
   },
   "file_extension": ".py",
   "mimetype": "text/x-python",
   "name": "python",
   "nbconvert_exporter": "python",
   "pygments_lexer": "ipython3",
   "version": "3.8.8"
  }
 },
 "nbformat": 4,
 "nbformat_minor": 5
}
