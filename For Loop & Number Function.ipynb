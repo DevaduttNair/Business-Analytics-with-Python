{
 "cells": [
  {
   "cell_type": "code",
   "execution_count": 1,
   "id": "26330b73-32b3-4de6-a173-76a003c15fea",
   "metadata": {},
   "outputs": [
    {
     "name": "stdout",
     "output_type": "stream",
     "text": [
      "1\n",
      "3\n",
      "5\n",
      "6\n",
      "7\n",
      "8\n",
      "10\n",
      "16\n",
      "20\n"
     ]
    }
   ],
   "source": [
    "x=[1,3,5,6,7,8,10,16,20]\n",
    "for f in x:\n",
    "    print(f)"
   ]
  },
  {
   "cell_type": "code",
   "execution_count": 4,
   "id": "8231530e-6b9e-44d6-9bcb-e85dfe884420",
   "metadata": {},
   "outputs": [
    {
     "name": "stdout",
     "output_type": "stream",
     "text": [
      "Narendra Modi\n",
      "Barack Obama\n",
      "Bill Gates\n",
      "Shah Rukh Khan\n",
      "Joe Biden\n"
     ]
    }
   ],
   "source": [
    "x=[\"Narendra Modi\",\"Barack Obama\",\"Bill Gates\",\"Shah Rukh Khan\",\"Joe Biden\"]\n",
    "for i in x:\n",
    "    print(i)"
   ]
  },
  {
   "cell_type": "code",
   "execution_count": 8,
   "id": "53f96966-5084-4f39-babb-8af1d90d2f35",
   "metadata": {},
   "outputs": [
    {
     "name": "stdout",
     "output_type": "stream",
     "text": [
      "94\n"
     ]
    }
   ],
   "source": [
    "x=[1,2,4,6,7,8,12,15,19,20]\n",
    "sum=0\n",
    "for i in x:\n",
    "    sum=sum+i\n",
    "print(sum)"
   ]
  },
  {
   "cell_type": "code",
   "execution_count": 13,
   "id": "bac405c7-461e-4318-8168-5e9647abbb66",
   "metadata": {},
   "outputs": [
    {
     "name": "stdout",
     "output_type": "stream",
     "text": [
      "61440\n"
     ]
    }
   ],
   "source": [
    "x=[4,8,6,10,2,16]\n",
    "pro=1\n",
    "for i in x:\n",
    "    pro=pro*i\n",
    "print(pro)"
   ]
  },
  {
   "cell_type": "code",
   "execution_count": 25,
   "id": "5b4d2a4b-22d2-4d05-96e8-3e627ece7c6f",
   "metadata": {},
   "outputs": [
    {
     "name": "stdout",
     "output_type": "stream",
     "text": [
      "[1, 2, 5, 7, 9, 12, 23, 36, 65, 88]\n"
     ]
    },
    {
     "data": {
      "text/plain": [
       "1"
      ]
     },
     "execution_count": 25,
     "metadata": {},
     "output_type": "execute_result"
    }
   ],
   "source": [
    "x=[2,5,1,65,23,12,7,9,36,88]\n",
    "x.sort()\n",
    "print(x)\n",
    "\n",
    "len(x)\n",
    "\n",
    "max(x)\n",
    "\n",
    "min(x)"
   ]
  },
  {
   "cell_type": "code",
   "execution_count": 26,
   "id": "c88da864-7c5f-4033-b6ac-77bbf144b445",
   "metadata": {},
   "outputs": [
    {
     "data": {
      "text/plain": [
       "3"
      ]
     },
     "execution_count": 26,
     "metadata": {},
     "output_type": "execute_result"
    }
   ],
   "source": [
    "x=[2,4,3,7,8,2,9,12,2]\n",
    "x.count(2)"
   ]
  },
  {
   "cell_type": "code",
   "execution_count": 29,
   "id": "ddca9314-c9d7-4953-8868-c8940d88f186",
   "metadata": {},
   "outputs": [
    {
     "name": "stdout",
     "output_type": "stream",
     "text": [
      "[1, 2, 3, 4, 5, 6, 7, 8, 9, 10, 11]\n"
     ]
    }
   ],
   "source": [
    "x=[1,2,3,4,5,6,7,8,9,10]\n",
    "y=x.append(11)\n",
    "print(x)"
   ]
  },
  {
   "cell_type": "code",
   "execution_count": null,
   "id": "29509ad5-410a-4160-bac8-a8e15e158d4b",
   "metadata": {},
   "outputs": [],
   "source": []
  }
 ],
 "metadata": {
  "kernelspec": {
   "display_name": "Python 3",
   "language": "python",
   "name": "python3"
  },
  "language_info": {
   "codemirror_mode": {
    "name": "ipython",
    "version": 3
   },
   "file_extension": ".py",
   "mimetype": "text/x-python",
   "name": "python",
   "nbconvert_exporter": "python",
   "pygments_lexer": "ipython3",
   "version": "3.8.8"
  }
 },
 "nbformat": 4,
 "nbformat_minor": 5
}
